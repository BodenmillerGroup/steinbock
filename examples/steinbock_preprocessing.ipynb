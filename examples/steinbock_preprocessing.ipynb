{
 "cells": [
  {
   "cell_type": "code",
   "execution_count": null,
   "id": "d20311f2",
   "metadata": {},
   "outputs": [],
   "source": [
    "import numpy as np\n",
    "import pandas as pd\n",
    "from os import PathLike\n",
    "from pathlib import Path\n",
    "from typing import List, Union\n",
    "from zipfile import ZipFile\n",
    "\n",
    "from steinbock import io\n",
    "from steinbock.preprocessing import imc\n",
    "from steinbock.segmentation import deepcell\n",
    "from steinbock.measurement import intensities, regionprops, neighbors"
   ]
  },
  {
   "cell_type": "markdown",
   "id": "91a3e410",
   "metadata": {},
   "source": [
    "# IMC preprocessing pipeline\n",
    "\n",
    "**steinbock:**  \n",
    "Documentation: https://bodenmillergroup.github.io/steinbock"
   ]
  },
  {
   "cell_type": "markdown",
   "id": "57c6a875",
   "metadata": {},
   "source": [
    "## Settings\n",
    "\n",
    "Example data can be downloaded using the `download_examples.ipynb` script."
   ]
  },
  {
   "cell_type": "markdown",
   "id": "360dfce1",
   "metadata": {},
   "source": [
    "### Input and output directories"
   ]
  },
  {
   "cell_type": "code",
   "execution_count": null,
   "id": "b1db3bf1",
   "metadata": {},
   "outputs": [],
   "source": [
    "base_dir = Path(\"..\")\n",
    "\n",
    "# Paths to zipped acquisition files\n",
    "raw_dir = base_dir / \"raw\"\n",
    "\n",
    "# Output directories\n",
    "img_dir = base_dir / \"img\"\n",
    "masks_dir = base_dir / \"masks\"\n",
    "segstack_dir = base_dir / \"segstacks\"\n",
    "intensities_dir = base_dir / \"intensities\"\n",
    "regionprops_dir = base_dir / \"regionprops\"\n",
    "neighbors_dir = base_dir / \"neighbors\""
   ]
  },
  {
   "cell_type": "markdown",
   "id": "bf5f1786",
   "metadata": {},
   "source": [
    "## Extract images from `.mcd` files\n",
    "\n",
    "Documentation: https://bodenmillergroup.github.io/steinbock/latest/cli/preprocessing/#image-conversion"
   ]
  },
  {
   "cell_type": "markdown",
   "id": "6bc7d51a",
   "metadata": {},
   "source": [
    "### Prepare the panel\n",
    "#### Panel file and column names"
   ]
  },
  {
   "cell_type": "code",
   "execution_count": null,
   "id": "537a0c39",
   "metadata": {},
   "outputs": [],
   "source": [
    "# Path to panel file\n",
    "panel_file = raw_dir / \"panel.csv\"\n",
    "\n",
    "# Panel columns\n",
    "panel_channel_col = \"metal\"\n",
    "panel_name_col = \"name\"\n",
    "panel_keep_col = \"full\"\n",
    "panel_cellseg_col = \"deepcell\""
   ]
  },
  {
   "cell_type": "markdown",
   "id": "72f9d388",
   "metadata": {},
   "source": [
    "#### Import the panel"
   ]
  },
  {
   "cell_type": "code",
   "execution_count": null,
   "id": "814b2794",
   "metadata": {},
   "outputs": [],
   "source": [
    "# Only needed when dealing with panel files from the old ImcSegmentationPipeline\n",
    "imc_panel = imc.create_panel_from_imc_panel(panel_file)\n",
    "\n",
    "# If directly providing a good panel, simply use\n",
    "# imc_panel = pd.read_csv(panel_file)\n",
    "\n",
    "imc_panel.head()"
   ]
  },
  {
   "cell_type": "markdown",
   "id": "830b0071",
   "metadata": {},
   "source": [
    "### Unzip\n",
    "\n",
    "Unzip function"
   ]
  },
  {
   "cell_type": "code",
   "execution_count": null,
   "id": "c9d5a7da",
   "metadata": {},
   "outputs": [],
   "source": [
    "def extract_zips(\n",
    "    path: Union[str, PathLike], suffix: str, dest: Union[str, PathLike]\n",
    ") -> List[Path]:\n",
    "    extracted_files = []\n",
    "    for zip_file_path in Path(path).rglob(\"[!.]*.zip\"):\n",
    "        with ZipFile(zip_file_path) as zip_file:\n",
    "            zip_infos = sorted(zip_file.infolist(), key=lambda x: x.filename)\n",
    "            for zip_info in zip_infos:\n",
    "                if not zip_info.is_dir() and zip_info.filename.endswith(suffix):\n",
    "                    extracted_file = zip_file.extract(zip_info, path=dest)\n",
    "                    extracted_files.append(Path(extracted_file))\n",
    "    return extracted_files"
   ]
  },
  {
   "cell_type": "code",
   "execution_count": null,
   "id": "667548a6",
   "metadata": {},
   "outputs": [],
   "source": [
    "# Extract .mcd files\n",
    "extract_zips(path=raw_dir, suffix=\".mcd\", dest=raw_dir)"
   ]
  },
  {
   "cell_type": "code",
   "execution_count": null,
   "id": "bd9119d3",
   "metadata": {},
   "outputs": [],
   "source": [
    "# Extract .txt files\n",
    "extract_zips(path=raw_dir, suffix=\".txt\", dest=raw_dir)"
   ]
  },
  {
   "cell_type": "markdown",
   "id": "c9bb3cee",
   "metadata": {},
   "source": [
    "### Convert to tiff\n",
    "#### Settings"
   ]
  },
  {
   "cell_type": "code",
   "execution_count": null,
   "id": "3ec2aa86",
   "metadata": {},
   "outputs": [],
   "source": [
    "# Value for hot pixel filtering\n",
    "hpf = 50\n",
    "channel_names = imc_panel['channel']\n",
    "\n",
    "# List mcd and txt files\n",
    "mcd_files = imc.list_mcd_files(raw_dir)\n",
    "txt_files = imc.list_txt_files(raw_dir)\n",
    "\n",
    "img_dir.mkdir(exist_ok=True)"
   ]
  },
  {
   "cell_type": "markdown",
   "id": "ee34eb60",
   "metadata": {},
   "source": [
    "#### Convert\n",
    "\n",
    "also save image metadata"
   ]
  },
  {
   "cell_type": "code",
   "execution_count": null,
   "id": "9a3cd247",
   "metadata": {},
   "outputs": [],
   "source": [
    "for img in imc.try_preprocess_images_from_disk(\n",
    "    mcd_files = mcd_files,\n",
    "    txt_files = txt_files,\n",
    "    hpf = hpf,\n",
    "    channel_names = channel_names\n",
    "):\n",
    "    img_file = Path(img_dir) / f\"{img[0].stem}.tiff\"\n",
    "    io.write_image(img[2], img_file)"
   ]
  },
  {
   "cell_type": "markdown",
   "id": "5d98185f",
   "metadata": {},
   "source": [
    "## Cell segmentation"
   ]
  },
  {
   "cell_type": "markdown",
   "id": "9ce59087",
   "metadata": {},
   "source": [
    "### Prepare segmentation stacks"
   ]
  },
  {
   "cell_type": "code",
   "execution_count": null,
   "id": "b23936d8",
   "metadata": {},
   "outputs": [],
   "source": [
    "channel_groups = imc_panel[\"deepcell\"].values\n",
    "channelwise_zscore = True\n",
    "aggr_func = np.sum\n",
    "segstack_dir.mkdir(exist_ok=True)\n",
    "\n",
    "# Suffixes\n",
    "deepcell_suffix = \"_deepcell\"\n",
    "mask_suffix = \"_mask\""
   ]
  },
  {
   "cell_type": "code",
   "execution_count": null,
   "id": "742f43fd",
   "metadata": {},
   "outputs": [],
   "source": [
    "for img_path in Path(img_dir).iterdir():\n",
    "    img = io.read_image(img_path)\n",
    "    \n",
    "    if channelwise_zscore:\n",
    "        channel_means = np.nanmean(img, axis=(1, 2))\n",
    "        channel_stds = np.nanstd(img, axis=(1, 2))\n",
    "        img -= channel_means[:, np.newaxis, np.newaxis]\n",
    "        img[channel_stds > 0] /= channel_stds[\n",
    "            channel_stds > 0, np.newaxis, np.newaxis\n",
    "        ]\n",
    "                \n",
    "    if channel_groups is not None:\n",
    "        img = np.stack(\n",
    "            [\n",
    "                aggr_func(img[channel_groups == channel_group], axis=0)\n",
    "                for channel_group in np.unique(channel_groups)\n",
    "                if not np.isnan(channel_group)\n",
    "            ]\n",
    "        )\n",
    "    img_file = Path(segstack_dir) / f\"{img_path.stem + deepcell_suffix}.tiff\"\n",
    "    io.write_image(img, img_file)"
   ]
  },
  {
   "cell_type": "markdown",
   "id": "6c3c14ec",
   "metadata": {},
   "source": [
    "### Segment cells"
   ]
  },
  {
   "cell_type": "code",
   "execution_count": null,
   "id": "85a4586e",
   "metadata": {},
   "outputs": [],
   "source": [
    "segstacks = sorted(Path(segstack_dir).glob(\"*\" + deepcell_suffix + \".tiff\"))\n",
    "masks_dir.mkdir(exist_ok=True)"
   ]
  },
  {
   "cell_type": "code",
   "execution_count": null,
   "id": "1eb5417e",
   "metadata": {},
   "outputs": [],
   "source": [
    "for img_path, mask in deepcell.try_segment_objects(\n",
    "    img_files=segstacks,\n",
    "    application=deepcell.Application.MESMER,\n",
    "    pixel_size_um=1.0,\n",
    "    segmentation_type = \"whole-cell\"\n",
    "):\n",
    "    mask_file = Path(masks_dir) / f\"{img_path.name.replace(deepcell_suffix, mask_suffix)}\"\n",
    "    io.write_mask(mask, mask_file)        "
   ]
  },
  {
   "cell_type": "markdown",
   "id": "dd8dd4a8",
   "metadata": {},
   "source": [
    "## Measure cells\n",
    "\n",
    "#### Create output folders"
   ]
  },
  {
   "cell_type": "code",
   "execution_count": null,
   "id": "7308f8cb",
   "metadata": {},
   "outputs": [],
   "source": [
    "intensities_dir.mkdir(exist_ok=True)\n",
    "regionprops_dir.mkdir(exist_ok=True)\n",
    "neighbors_dir.mkdir(exist_ok=True)"
   ]
  },
  {
   "cell_type": "markdown",
   "id": "9a85b396",
   "metadata": {},
   "source": [
    "### Measure cell intensities per channel"
   ]
  },
  {
   "cell_type": "code",
   "execution_count": null,
   "id": "41e37fcd",
   "metadata": {},
   "outputs": [],
   "source": [
    "for img_path, mask_path, intens in intensities.try_measure_intensities_from_disk(\n",
    "    img_files = io.list_image_files(img_dir),\n",
    "    mask_files = io.list_image_files(masks_dir),\n",
    "    channel_names = channel_names,\n",
    "    intensity_aggregation = intensities.IntensityAggregation.MEAN\n",
    "):\n",
    "    intensities_file = Path(intensities_dir) / f\"{img_path.name.replace('.tiff', '.csv')}\"\n",
    "    pd.DataFrame.to_csv(intens, intensities_file)"
   ]
  },
  {
   "cell_type": "markdown",
   "id": "3741f251",
   "metadata": {},
   "source": [
    "### Measure cell spatial properties\n",
    "\n",
    "#### List properties to measure"
   ]
  },
  {
   "cell_type": "code",
   "execution_count": null,
   "id": "14330f5f",
   "metadata": {},
   "outputs": [],
   "source": [
    "skimage_regionprops = [\n",
    "        \"area\",\n",
    "        \"centroid\",\n",
    "        \"major_axis_length\",\n",
    "        \"minor_axis_length\",\n",
    "        \"eccentricity\",\n",
    "    ]"
   ]
  },
  {
   "cell_type": "markdown",
   "id": "efbc918c",
   "metadata": {},
   "source": [
    "#### Measure region props"
   ]
  },
  {
   "cell_type": "code",
   "execution_count": null,
   "id": "3cf8d077",
   "metadata": {},
   "outputs": [],
   "source": [
    "for img_path, mask_path, region_props in regionprops.try_measure_regionprops_from_disk(\n",
    "    img_files = io.list_image_files(img_dir),\n",
    "    mask_files = io.list_image_files(masks_dir),\n",
    "    skimage_regionprops = skimage_regionprops\n",
    "):\n",
    "    regionprops_file = Path(regionprops_dir) / f\"{img_path.name.replace('.tiff', '.csv')}\"\n",
    "    pd.DataFrame.to_csv(region_props, regionprops_file)"
   ]
  },
  {
   "cell_type": "markdown",
   "id": "3eb22493",
   "metadata": {},
   "source": [
    "### Measure cell neighbors\n",
    "\n",
    "#### Settings\n",
    "\n",
    "Choose dmax (max distance between centroids) and/or kmax (k-nearest neighbors)\n",
    "Neighborhood types:\n",
    "+ NeighborhoodType.CENTROID_DISTANCE,\n",
    "+ NeighborhoodType.EUCLIDEAN_BORDER_DISTANCE,\n",
    "+ NeighborhoodType.EUCLIDEAN_PIXEL_EXPANSION,"
   ]
  },
  {
   "cell_type": "code",
   "execution_count": null,
   "id": "1c837db6",
   "metadata": {},
   "outputs": [],
   "source": [
    "neighborhood_type = neighbors.NeighborhoodType.CENTROID_DISTANCE\n",
    "dmax = 15\n",
    "kmax = 5"
   ]
  },
  {
   "cell_type": "markdown",
   "id": "6b1982f3",
   "metadata": {},
   "source": [
    "#### Measure cell neighbors"
   ]
  },
  {
   "cell_type": "code",
   "execution_count": null,
   "id": "c35345b6",
   "metadata": {},
   "outputs": [],
   "source": [
    "for mask_path, neighb in neighbors.try_measure_neighbors_from_disk(\n",
    "    mask_files = io.list_image_files(masks_dir),\n",
    "    neighborhood_type = neighborhood_type,\n",
    "    metric = \"euclidean\",\n",
    "    dmax = dmax,\n",
    "    kmax = kmax\n",
    "):\n",
    "    neighb_file = Path(neighbors_dir) / f\"{mask_path.name.replace(mask_suffix + '.tiff', '.csv')}\"\n",
    "    pd.DataFrame.to_csv(neighb, neighb_file)"
   ]
  },
  {
   "cell_type": "code",
   "execution_count": null,
   "id": "6197045b",
   "metadata": {},
   "outputs": [],
   "source": [
    "!conda list"
   ]
  }
 ],
 "metadata": {
  "kernelspec": {
   "display_name": "Python 3 (ipykernel)",
   "language": "python",
   "name": "python3"
  },
  "language_info": {
   "codemirror_mode": {
    "name": "ipython",
    "version": 3
   },
   "file_extension": ".py",
   "mimetype": "text/x-python",
   "name": "python",
   "nbconvert_exporter": "python",
   "pygments_lexer": "ipython3",
   "version": "3.8.13"
  }
 },
 "nbformat": 4,
 "nbformat_minor": 5
}
