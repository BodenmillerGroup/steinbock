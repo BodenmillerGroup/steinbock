{
 "cells": [
  {
   "cell_type": "code",
   "execution_count": 1,
   "id": "5f8a0cf8",
   "metadata": {},
   "outputs": [
    {
     "name": "stderr",
     "output_type": "stream",
     "text": [
      "2022-08-24 10:30:31.153949: W tensorflow/stream_executor/platform/default/dso_loader.cc:64] Could not load dynamic library 'libcudart.so.11.0'; dlerror: libcudart.so.11.0: cannot open shared object file: No such file or directory; LD_LIBRARY_PATH: /home/ubuntu/packages/miniconda3/envs/steinbock_notebook/lib/python3.8/site-packages/cv2/../../lib64:\n",
      "2022-08-24 10:30:31.154002: I tensorflow/stream_executor/cuda/cudart_stub.cc:29] Ignore above cudart dlerror if you do not have a GPU set up on your machine.\n"
     ]
    }
   ],
   "source": [
    "import matplotlib.pyplot as plt\n",
    "import numpy as np\n",
    "import pandas as pd\n",
    "import xtiff\n",
    "\n",
    "from deepcell.applications import Mesmer\n",
    "from matplotlib.colors import ListedColormap\n",
    "from pathlib import Path\n",
    "from skimage.segmentation import expand_labels\n",
    "from urllib import request\n",
    "import sklearn\n",
    "\n",
    "from steinbock import io\n",
    "from steinbock.preprocessing import imc\n",
    "from steinbock.segmentation import deepcell\n",
    "from steinbock.measurement import intensities, regionprops, neighbors\n",
    "\n",
    "import helpers"
   ]
  },
  {
   "cell_type": "markdown",
   "id": "41a31c7b",
   "metadata": {},
   "source": [
    "# IMC preprocessing pipeline\n",
    "\n",
    "This pipeline will extract image data from IMC aquisitions located in the `raw` folder and generate single cell data. Intermediary steps include the extraction of image stacks selected from the panel file as well as segmentation masks. The single cell data is extracted from the chanels selected in the panel.\n",
    "\n",
    "Before running your own script please check the [steinbock documentation](https://bodenmillergroup.github.io/steinbock).\n",
    "\n",
    "*Installation*  \n",
    "To install the required python environment, follow the instructions here: https://bodenmillergroup.github.io/steinbock/latest/install-python/"
   ]
  },
  {
   "cell_type": "markdown",
   "id": "903eebe5",
   "metadata": {},
   "source": [
    "## Settings\n",
    "\n",
    "Example data can be downloaded using the `download_examples.ipynb` script.\n",
    "\n",
    "### Input and output directories\n",
    "\n",
    "Folder structure:"
   ]
  },
  {
   "cell_type": "raw",
   "id": "bf24e14c",
   "metadata": {},
   "source": [
    "steinbock data/working directory  \n",
    "├── raw   \n",
    "|    └──── *.zip (raw data)\n",
    "├── panel.csv (user-provided, when starting from raw data) \n",
    "├── img (created by this script)  \n",
    "├── segstacks (created by this script)  \n",
    "├── masks (created by this script)  \n",
    "├── intensities (created by this script)  \n",
    "├── regionprops (created by this script)  \n",
    "└── neighbors (created by this script)  "
   ]
  },
  {
   "cell_type": "code",
   "execution_count": 2,
   "id": "befaf84c",
   "metadata": {},
   "outputs": [],
   "source": [
    "base_dir = Path(\".\")\n",
    "\n",
    "# Paths to zipped acquisition files\n",
    "raw_dir = base_dir / \"raw\"\n",
    "\n",
    "# Output directories\n",
    "img_dir = base_dir / \"img\"\n",
    "masks_dir = base_dir / \"masks\"\n",
    "segstack_dir = base_dir / \"segstacks\"\n",
    "intensities_dir = base_dir / \"intensities\"\n",
    "regionprops_dir = base_dir / \"regionprops\"\n",
    "neighbors_dir = base_dir / \"neighbors\"\n",
    "\n",
    "# Create directories (if they do not already exist)\n",
    "raw_dir.mkdir(exist_ok=True)\n",
    "img_dir.mkdir(exist_ok=True)\n",
    "masks_dir.mkdir(exist_ok=True)\n",
    "segstack_dir.mkdir(exist_ok=True)\n",
    "intensities_dir.mkdir(exist_ok=True)\n",
    "regionprops_dir.mkdir(exist_ok=True)\n",
    "neighbors_dir.mkdir(exist_ok=True)"
   ]
  },
  {
   "cell_type": "markdown",
   "id": "6a4afca7",
   "metadata": {},
   "source": [
    "## Download IMC example data\n",
    "This section downloads IMC example raw data and the associated antibody panel file used for the experiment. The IMC raw data will be stored in the `raw` folder and the panel will be stored in the `examples` folder.  \n",
    "You can skip the following cell if you are processing your own data."
   ]
  },
  {
   "cell_type": "code",
   "execution_count": 3,
   "id": "c53fe715",
   "metadata": {},
   "outputs": [],
   "source": [
    "for example_file_name, example_file_url in [\n",
    "    (\n",
    "        \"Patient1.zip\",\n",
    "        \"https://zenodo.org/record/5949116/files/Patient1.zip\",\n",
    "    ),\n",
    "    (\n",
    "        \"Patient2.zip\",\n",
    "        \"https://zenodo.org/record/5949116/files/Patient2.zip\",\n",
    "    ),\n",
    "    (\n",
    "        \"Patient3.zip\",\n",
    "        \"https://zenodo.org/record/5949116/files/Patient3.zip\",\n",
    "    ),\n",
    "    (\n",
    "        \"Patient4.zip\",\n",
    "        \"https://zenodo.org/record/5949116/files/Patient4.zip\",\n",
    "    ),\n",
    "]:\n",
    "    example_file = raw_dir / example_file_name\n",
    "    if not example_file.exists():\n",
    "        request.urlretrieve(example_file_url, example_file)\n",
    "        \n",
    "panel_file = base_dir / \"panel.csv\"\n",
    "if not panel_file.exists():\n",
    "    request.urlretrieve(\"https://zenodo.org/record/6642699/files/panel.csv\",\n",
    "                        panel_file)"
   ]
  },
  {
   "cell_type": "markdown",
   "id": "c212ebd7",
   "metadata": {},
   "source": [
    "## Extract images from `.mcd` files\n",
    "\n",
    "Documentation: https://bodenmillergroup.github.io/steinbock/latest/cli/preprocessing/#external-images\n",
    "\n",
    "### Import the panel\n",
    "The antibody panel file should be placed in the `examples` folder and meet the steinbock format: https://bodenmillergroup.github.io/steinbock/latest/file-types/#panel.  \n",
    "\n",
    "Customized panels should contain the following columns:\n",
    "+ `channel`: unique channel id, typically metal and isotope mass (e.g. `Ir191`)\n",
    "+ `name`: unique channel name.\n",
    "+ `deepcell`: channels to use for segmentation (1=nuclear, 2=membrane, empty/NaN=ignored).\n",
    "+ `keep`: *(optional)* 1 for channels to preprocess, 0 for channels to ignore"
   ]
  },
  {
   "cell_type": "code",
   "execution_count": 4,
   "id": "f8ce84b0",
   "metadata": {},
   "outputs": [
    {
     "data": {
      "text/html": [
       "<div>\n",
       "<style scoped>\n",
       "    .dataframe tbody tr th:only-of-type {\n",
       "        vertical-align: middle;\n",
       "    }\n",
       "\n",
       "    .dataframe tbody tr th {\n",
       "        vertical-align: top;\n",
       "    }\n",
       "\n",
       "    .dataframe thead th {\n",
       "        text-align: right;\n",
       "    }\n",
       "</style>\n",
       "<table border=\"1\" class=\"dataframe\">\n",
       "  <thead>\n",
       "    <tr style=\"text-align: right;\">\n",
       "      <th></th>\n",
       "      <th>channel</th>\n",
       "      <th>name</th>\n",
       "      <th>keep</th>\n",
       "      <th>ilastik</th>\n",
       "      <th>deepcell</th>\n",
       "      <th>Tube Number</th>\n",
       "      <th>Target</th>\n",
       "      <th>Antibody Clone</th>\n",
       "      <th>Stock Concentration</th>\n",
       "      <th>Final Concentration / Dilution</th>\n",
       "      <th>uL to add</th>\n",
       "    </tr>\n",
       "  </thead>\n",
       "  <tbody>\n",
       "    <tr>\n",
       "      <th>0</th>\n",
       "      <td>Y89</td>\n",
       "      <td>MPO</td>\n",
       "      <td>1</td>\n",
       "      <td>NaN</td>\n",
       "      <td>NaN</td>\n",
       "      <td>2101</td>\n",
       "      <td>Myeloperoxidase MPO</td>\n",
       "      <td>Polyclonal MPO</td>\n",
       "      <td>500.0</td>\n",
       "      <td>4 ug/mL</td>\n",
       "      <td>0.8</td>\n",
       "    </tr>\n",
       "    <tr>\n",
       "      <th>1</th>\n",
       "      <td>In113</td>\n",
       "      <td>HistoneH3</td>\n",
       "      <td>1</td>\n",
       "      <td>1.0</td>\n",
       "      <td>1.0</td>\n",
       "      <td>2113</td>\n",
       "      <td>Histone H3</td>\n",
       "      <td>D1H2</td>\n",
       "      <td>500.0</td>\n",
       "      <td>1 ug/mL</td>\n",
       "      <td>0.2</td>\n",
       "    </tr>\n",
       "    <tr>\n",
       "      <th>2</th>\n",
       "      <td>In115</td>\n",
       "      <td>SMA</td>\n",
       "      <td>1</td>\n",
       "      <td>NaN</td>\n",
       "      <td>NaN</td>\n",
       "      <td>1914</td>\n",
       "      <td>SMA</td>\n",
       "      <td>1A4</td>\n",
       "      <td>500.0</td>\n",
       "      <td>0.25 ug/mL</td>\n",
       "      <td>0.05</td>\n",
       "    </tr>\n",
       "    <tr>\n",
       "      <th>3</th>\n",
       "      <td>Pr141</td>\n",
       "      <td>CD16</td>\n",
       "      <td>1</td>\n",
       "      <td>NaN</td>\n",
       "      <td>NaN</td>\n",
       "      <td>2079</td>\n",
       "      <td>CD16</td>\n",
       "      <td>EPR16784</td>\n",
       "      <td>500.0</td>\n",
       "      <td>5 ug/mL</td>\n",
       "      <td>1</td>\n",
       "    </tr>\n",
       "    <tr>\n",
       "      <th>4</th>\n",
       "      <td>Nd142</td>\n",
       "      <td>CD38</td>\n",
       "      <td>1</td>\n",
       "      <td>NaN</td>\n",
       "      <td>NaN</td>\n",
       "      <td>2095</td>\n",
       "      <td>CD38</td>\n",
       "      <td>EPR4106</td>\n",
       "      <td>500.0</td>\n",
       "      <td>2.5 ug/mL</td>\n",
       "      <td>0.5</td>\n",
       "    </tr>\n",
       "  </tbody>\n",
       "</table>\n",
       "</div>"
      ],
      "text/plain": [
       "  channel       name  keep  ilastik  deepcell  Tube Number  \\\n",
       "0     Y89        MPO     1      NaN       NaN         2101   \n",
       "1   In113  HistoneH3     1      1.0       1.0         2113   \n",
       "2   In115        SMA     1      NaN       NaN         1914   \n",
       "3   Pr141       CD16     1      NaN       NaN         2079   \n",
       "4   Nd142       CD38     1      NaN       NaN         2095   \n",
       "\n",
       "                Target  Antibody Clone  Stock Concentration  \\\n",
       "0  Myeloperoxidase MPO  Polyclonal MPO                500.0   \n",
       "1           Histone H3            D1H2                500.0   \n",
       "2                  SMA             1A4                500.0   \n",
       "3                 CD16        EPR16784                500.0   \n",
       "4                 CD38         EPR4106                500.0   \n",
       "\n",
       "  Final Concentration / Dilution uL to add  \n",
       "0                        4 ug/mL       0.8  \n",
       "1                        1 ug/mL       0.2  \n",
       "2                     0.25 ug/mL      0.05  \n",
       "3                        5 ug/mL         1  \n",
       "4                      2.5 ug/mL       0.5  "
      ]
     },
     "execution_count": 4,
     "metadata": {},
     "output_type": "execute_result"
    }
   ],
   "source": [
    "imc_panel = pd.read_csv(base_dir / \"panel.csv\")\n",
    "\n",
    "if \"keep\" in imc_panel.columns:\n",
    "    imc_panel = imc_panel[imc_panel[\"keep\"]==1]\n",
    "imc_panel.head()"
   ]
  },
  {
   "cell_type": "markdown",
   "id": "945ee46f",
   "metadata": {},
   "source": [
    "### Unzip\n",
    "\n",
    "zip folders should contain one `.mcd` file and all the associated `.txt` files."
   ]
  },
  {
   "cell_type": "code",
   "execution_count": null,
   "id": "976e2db1",
   "metadata": {},
   "outputs": [],
   "source": [
    "# Extract .mcd files\n",
    "helpers.extract_zips(path=raw_dir, suffix=\".mcd\", dest=raw_dir)"
   ]
  },
  {
   "cell_type": "code",
   "execution_count": null,
   "id": "b43365e0",
   "metadata": {},
   "outputs": [],
   "source": [
    "# Extract .txt files\n",
    "helpers.extract_zips(path=raw_dir, suffix=\".txt\", dest=raw_dir)"
   ]
  },
  {
   "cell_type": "markdown",
   "id": "90d71241",
   "metadata": {},
   "source": [
    "### Convert to tiff\n",
    "\n",
    "Documentation: https://bodenmillergroup.github.io/steinbock/latest/cli/preprocessing/#image-conversion\n",
    "\n",
    "#### Settings\n",
    "Image stacks are extracted from the acquisitions in `.tiff` format."
   ]
  },
  {
   "cell_type": "code",
   "execution_count": null,
   "id": "a0661f23",
   "metadata": {},
   "outputs": [],
   "source": [
    "extract_metadata = True\n",
    "\n",
    "# Value for hot pixel filtering (see the documentation)\n",
    "hpf = 50"
   ]
  },
  {
   "cell_type": "markdown",
   "id": "137b325e",
   "metadata": {},
   "source": [
    "#### Image conversion\n",
    "Extract image stacks from IMC acquisitions (stored in the `img` subfolder) and export metadata as `images.csv`."
   ]
  },
  {
   "cell_type": "code",
   "execution_count": null,
   "id": "2fc59c7f",
   "metadata": {},
   "outputs": [],
   "source": [
    "image_info_data = pd.DataFrame()\n",
    "\n",
    "for mcd_file, acquisition, img, matched_txt, recovered in imc.try_preprocess_images_from_disk(\n",
    "    mcd_files = imc.list_mcd_files(raw_dir),\n",
    "    txt_files = imc.list_txt_files(raw_dir),\n",
    "    hpf = hpf,\n",
    "    channel_names = imc_panel[\"channel\"]\n",
    "):\n",
    "    img_file = Path(img_dir) / f\"{mcd_file.stem}_{acquisition.description}.tiff\"\n",
    "    io.write_image(img, img_file)\n",
    "\n",
    "    if extract_metadata :\n",
    "        image_info = helpers.extract_metadata(img_file, mcd_file, img, acquisition, matched_txt, recovered)\n",
    "        image_info_data = pd.concat([image_info_data, image_info])\n",
    "        \n",
    "if extract_metadata:\n",
    "    image_info_data.to_csv(base_dir / \"images.csv\", index=False)"
   ]
  },
  {
   "cell_type": "markdown",
   "id": "c36436f4",
   "metadata": {},
   "source": [
    "## Cell segmentation\n",
    "\n",
    "Documentation: https://bodenmillergroup.github.io/steinbock/latest/cli/segmentation/#deepcell  "
   ]
  },
  {
   "cell_type": "markdown",
   "id": "bb5df399",
   "metadata": {},
   "source": [
    "### Prepare segmentation stacks\n",
    "\n",
    "Segmentation stacks are generated by aggregating the channels selcted in `panel.csv` in the column `deepcell`. \n",
    "Cell segmentation requires to construct as 2-channel images with the following structure:\n",
    "+ Channel 1 = nuclear channels\n",
    "+ Channel 2 = cytoplasmic/membranous channels.\n",
    "\n",
    "For channel-wise normalization, zscore and min-max methods are available.  \n",
    "In addition, different functions can be used to aggregate channels. Default: `np.mean`, for other options, see https://numpy.org/doc/stable/reference/routines.statistics.html#averages-and-variances."
   ]
  },
  {
   "cell_type": "code",
   "execution_count": null,
   "id": "326e8c82",
   "metadata": {},
   "outputs": [],
   "source": [
    "# Define image preprocessing options\n",
    "channelwise_zscore = True\n",
    "channelwise_minmax = False\n",
    "aggr_func = np.sum\n",
    "\n",
    "# Define channels to use for segmentation (from the panel file)\n",
    "channel_groups = imc_panel[\"deepcell\"].values\n",
    "channel_groups = np.where(channel_groups == 0, np.nan, channel_groups) # make sure unselected chanels are set to nan"
   ]
  },
  {
   "cell_type": "markdown",
   "id": "2420bca3",
   "metadata": {},
   "source": [
    "#### Generate segmentation stacks"
   ]
  },
  {
   "cell_type": "code",
   "execution_count": null,
   "id": "d4814a1c",
   "metadata": {},
   "outputs": [],
   "source": [
    "for img_path in sorted(Path(img_dir).glob(\"*.tiff\")):\n",
    "    img = io.read_image(img_path)\n",
    "    if channelwise_minmax:\n",
    "        img = helpers.norm_minmax(img)\n",
    "    \n",
    "    if channelwise_zscore:\n",
    "        img = helpers.norm_zscore(img)\n",
    "    \n",
    "    if channel_groups is not None:\n",
    "        img = helpers.segstack_channels(img, channel_groups, aggr_func)\n",
    "    \n",
    "    img_file = Path(segstack_dir) / f\"{img_path.name}\"\n",
    "    io.write_image(img, img_file)"
   ]
  },
  {
   "cell_type": "markdown",
   "id": "c9e2f0cb",
   "metadata": {},
   "source": [
    "#### Check segmentation stacks"
   ]
  },
  {
   "cell_type": "code",
   "execution_count": null,
   "id": "13c077fa",
   "metadata": {},
   "outputs": [],
   "source": [
    "# List segmentation stacks\n",
    "segstacks = sorted(Path(segstack_dir).glob(\"*.tiff\"))\n",
    "\n",
    "# Select a random image\n",
    "rng = np.random.default_rng()\n",
    "ix = rng.choice(len(segstacks))\n",
    "\n",
    "# Display nuclear and membrane/cytoplasm images\n",
    "fig, ax = plt.subplots(1, 2, figsize=(30, 30))\n",
    "\n",
    "img = io.read_image(segstacks[ix])\n",
    "ax[0].imshow(img[0,:,:], vmin=0, vmax=10) # adjust vmax if needed (lower value = higher intensity)\n",
    "ax[0].set_title(segstacks[ix].stem + \": nuclei\")\n",
    "\n",
    "img = io.read_image(segstacks[ix])\n",
    "ax[1].imshow(img[1,:,:], vmin=0, vmax=10) # adjust vmax if needed (lower value = higher intensity)\n",
    "ax[1].set_title(segstacks[ix].stem + \": membrane\")"
   ]
  },
  {
   "cell_type": "markdown",
   "id": "57083d33",
   "metadata": {},
   "source": [
    "### Segment cells\n",
    "\n",
    "`segmentation_type` should be one of [`whole-cell`, `nuclear`, `both`].  \n",
    "If `both` is selected, nuclear and whole-cell masks will be generated in separate subfolders.  \n",
    "\n",
    "Several post-processing arguments can be passed to the deepcell application, the defaults are selected below. Cell labels can also be expanded by defining an `expansion_distance` (mostly useful for nuclear segmentation)."
   ]
  },
  {
   "cell_type": "code",
   "execution_count": null,
   "id": "8ec52635",
   "metadata": {},
   "outputs": [],
   "source": [
    "# Segmentation type\n",
    "segmentation_type = \"both\"\n",
    "\n",
    "# Post-processing arguments for whole-cell segmentation\n",
    "kwargs_whole_cell =  {\n",
    "    'maxima_threshold': 0.075,\n",
    "    'maxima_smooth': 0,\n",
    "    'interior_threshold': 0.2,\n",
    "    'interior_smooth': 2,\n",
    "    'small_objects_threshold': 15,\n",
    "    'fill_holes_threshold': 15,\n",
    "    'radius': 2\n",
    "}\n",
    "\n",
    "# Post-processing arguments for nuclear segmentation\n",
    "kwargs_nuclear =  {\n",
    "    'maxima_threshold': 0.1,\n",
    "    'maxima_smooth': 0,\n",
    "    'interior_threshold': 0.2,\n",
    "    'interior_smooth': 2,\n",
    "    'small_objects_threshold': 15,\n",
    "    'fill_holes_threshold': 15,\n",
    "    'radius': 2\n",
    "}\n",
    "\n",
    "# Mask pixel expansion (0 = no expansion)\n",
    "expansion_distance = 0"
   ]
  },
  {
   "cell_type": "code",
   "execution_count": null,
   "id": "427d4950",
   "metadata": {},
   "outputs": [],
   "source": [
    "app = Mesmer()\n",
    "\n",
    "for stack in segstacks:\n",
    "    img = io.read_image(stack)\n",
    "    img = np.moveaxis(img, 0, 2)\n",
    "    img = np.expand_dims(img.data, 0)\n",
    "    \n",
    "    mask = app.predict(\n",
    "        img, image_mpp=1, compartment=segmentation_type,\n",
    "        postprocess_kwargs_whole_cell=kwargs_whole_cell,\n",
    "        postprocess_kwargs_nuclear=kwargs_nuclear\n",
    "    )\n",
    "    \n",
    "    helpers.save_masks(\n",
    "        mask, masks_dir, stack.name,\n",
    "        segmentation_type, expansion_distance\n",
    "    )"
   ]
  },
  {
   "cell_type": "code",
   "execution_count": null,
   "id": "1a91207e",
   "metadata": {},
   "outputs": [],
   "source": [
    "# # Generating masks using steinbock's function\n",
    "# for img_path, mask in deepcell.try_segment_objects(\n",
    "#     img_files = segstacks,\n",
    "#     application = deepcell.Application.MESMER,\n",
    "#     pixel_size_um = 1.0,\n",
    "#     segmentation_type = segmentation_type\n",
    "# ):\n",
    "#     mask = expand_labels(mask, distance=float(expansion_distance))\n",
    "    \n",
    "#     mask_file = Path(masks_subdir) / f\"{img_path.stem}.tiff\"\n",
    "#     io.write_mask(mask, mask_file)"
   ]
  },
  {
   "cell_type": "markdown",
   "id": "5991475e",
   "metadata": {},
   "source": [
    "#### Check segmentation\n",
    "\n",
    "Adjust the image intensity by modifiying the `max_intensity` variable.  \n",
    "For higher magnification images, adjust the coordinates and dimension if needed."
   ]
  },
  {
   "cell_type": "code",
   "execution_count": null,
   "id": "6317f612",
   "metadata": {},
   "outputs": [],
   "source": [
    "# Choose either 'nuclear' or 'whole-cell' for downstream processing\n",
    "segmentation_type = \"nuclear\""
   ]
  },
  {
   "cell_type": "code",
   "execution_count": null,
   "id": "4ac84c0d",
   "metadata": {},
   "outputs": [],
   "source": [
    "# List masks\n",
    "masks_subdir = masks_dir / segmentation_type\n",
    "masks = sorted(Path(masks_subdir).glob(\"*.tiff\"))\n",
    "\n",
    "# Define instensity value for images\n",
    "max_intensity = 20 # vmax: lower values = higher intensity\n",
    "\n",
    "# Select a random image\n",
    "ix = rng.choice(len(masks))\n",
    "fig, ax = plt.subplots(2, 2, figsize=(30, 30))\n",
    "\n",
    "# Display image and mask\n",
    "img = io.read_image(segstacks[ix])\n",
    "ax[0,0].imshow(img[0,:,:], vmax=max_intensity)\n",
    "ax[0,0].set_title(segstacks[ix].stem + \": nuclei\")\n",
    "\n",
    "mask = io.read_image(masks[ix])\n",
    "cmap = ListedColormap(np.random.rand(10**3,3))\n",
    "cmap.colors[0]=[1,1,1]\n",
    "ax[0,1].imshow(mask[0,:,:], cmap=cmap)\n",
    "ax[0,1].set_title(masks[ix].stem +\": mask\")\n",
    "\n",
    "## Higher magnification (change coordinates and dimensions if needed)\n",
    "xstart = 100\n",
    "ystart = 100\n",
    "dim = 100\n",
    "\n",
    "ax[1,0].imshow(img[0,:,:], vmin=0, vmax=max_intensity) \n",
    "ax[1,0].set_title(segstacks[ix].stem + \": nuclei\")\n",
    "ax[1,0].set_xlim([xstart, xstart+dim])\n",
    "ax[1,0].set_ylim([ystart, ystart+dim])\n",
    "\n",
    "ax[1,1].imshow(mask[0,:,:], cmap=cmap)\n",
    "ax[1,1].set_title(masks[ix].stem +\": mask\")\n",
    "ax[1,1].set_xlim([xstart, xstart+dim])\n",
    "ax[1,1].set_ylim([ystart, ystart+dim])"
   ]
  },
  {
   "cell_type": "markdown",
   "id": "46b1f3fe",
   "metadata": {},
   "source": [
    "## Measure cells\n",
    "\n",
    "### Measure cell intensities per channel\n",
    "\n",
    "Documentation: https://bodenmillergroup.github.io/steinbock/latest/cli/measurement/#object-intensities"
   ]
  },
  {
   "cell_type": "code",
   "execution_count": null,
   "id": "0e15baa0",
   "metadata": {},
   "outputs": [],
   "source": [
    "for img_path, mask_path, intens in intensities.try_measure_intensities_from_disk(\n",
    "    img_files = io.list_image_files(img_dir),\n",
    "    mask_files = io.list_image_files(masks_subdir),\n",
    "    channel_names = imc_panel[\"name\"],\n",
    "    intensity_aggregation = intensities.IntensityAggregation.MEAN\n",
    "):\n",
    "    intensities_file = Path(intensities_dir) / f\"{img_path.name.replace('.tiff', '.csv')}\"\n",
    "    pd.DataFrame.to_csv(intens, intensities_file)"
   ]
  },
  {
   "cell_type": "markdown",
   "id": "954f933e",
   "metadata": {},
   "source": [
    "### Measure cell spatial properties\n",
    "\n",
    "Documentation: https://bodenmillergroup.github.io/steinbock/latest/cli/measurement/#region-properties\n",
    "\n",
    "#### List properties to measure\n",
    "\n",
    "For a full list of measurable properties, refer to https://scikit-image.org/docs/dev/api/skimage.measure.html#skimage.measure.regionprops"
   ]
  },
  {
   "cell_type": "code",
   "execution_count": null,
   "id": "bb155b5a",
   "metadata": {},
   "outputs": [],
   "source": [
    "skimage_regionprops = [\n",
    "        \"area\",\n",
    "        \"centroid\",\n",
    "        \"major_axis_length\",\n",
    "        \"minor_axis_length\",\n",
    "        \"eccentricity\",\n",
    "    ]"
   ]
  },
  {
   "cell_type": "markdown",
   "id": "9e9df806",
   "metadata": {},
   "source": [
    "#### Measure region props"
   ]
  },
  {
   "cell_type": "code",
   "execution_count": null,
   "id": "90f0bacf",
   "metadata": {},
   "outputs": [],
   "source": [
    "for img_path, mask_path, region_props in regionprops.try_measure_regionprops_from_disk(\n",
    "    img_files = io.list_image_files(img_dir),\n",
    "    mask_files = io.list_image_files(masks_subdir),\n",
    "    skimage_regionprops = skimage_regionprops\n",
    "):\n",
    "    \n",
    "    regionprops_file = Path(regionprops_dir) / f\"{img_path.name.replace('.tiff', '.csv')}\"\n",
    "    pd.DataFrame.to_csv(region_props, regionprops_file)"
   ]
  },
  {
   "cell_type": "markdown",
   "id": "d053bab4",
   "metadata": {},
   "source": [
    "### Measure cell neighbors\n",
    "\n",
    "Documentation: https://bodenmillergroup.github.io/steinbock/latest/cli/measurement/#object-neighbors\n",
    "\n",
    "#### Settings\n",
    "\n",
    "*Neighborhood types:*\n",
    "+ `NeighborhoodType.CENTROID_DISTANCE`\n",
    "+ `NeighborhoodType.EUCLIDEAN_BORDER_DISTANCE`\n",
    "+ `NeighborhoodType.EUCLIDEAN_PIXEL_EXPANSION`\n",
    "\n",
    "*Thresholding:*\n",
    "+ `dmax` (max distance between centroids)\n",
    "+ `kmax` (k-nearest neighbors)"
   ]
  },
  {
   "cell_type": "code",
   "execution_count": null,
   "id": "7ce5dc4b",
   "metadata": {},
   "outputs": [],
   "source": [
    "neighborhood_type = neighbors.NeighborhoodType.CENTROID_DISTANCE\n",
    "dmax = 15\n",
    "kmax = 5"
   ]
  },
  {
   "cell_type": "markdown",
   "id": "297652da",
   "metadata": {},
   "source": [
    "#### Measure cell neighbors"
   ]
  },
  {
   "cell_type": "code",
   "execution_count": null,
   "id": "8fc78844",
   "metadata": {},
   "outputs": [],
   "source": [
    "for mask_path, neighb in neighbors.try_measure_neighbors_from_disk(\n",
    "    mask_files = io.list_image_files(masks_subdir),\n",
    "    neighborhood_type = neighborhood_type,\n",
    "    metric = \"euclidean\",\n",
    "    dmax = dmax,\n",
    "    kmax = kmax\n",
    "):\n",
    "    neighb_file = Path(neighbors_dir) / f\"{mask_path.name.replace('.tiff', '.csv')}\"\n",
    "    pd.DataFrame.to_csv(neighb, neighb_file, index=False)"
   ]
  },
  {
   "cell_type": "code",
   "execution_count": null,
   "id": "34135a79",
   "metadata": {},
   "outputs": [],
   "source": [
    "!conda list"
   ]
  }
 ],
 "metadata": {
  "jupytext": {
   "formats": "ipynb,py:percent"
  },
  "kernelspec": {
   "display_name": "Python 3 (ipykernel)",
   "language": "python",
   "name": "python3"
  },
  "language_info": {
   "codemirror_mode": {
    "name": "ipython",
    "version": 3
   },
   "file_extension": ".py",
   "mimetype": "text/x-python",
   "name": "python",
   "nbconvert_exporter": "python",
   "pygments_lexer": "ipython3",
   "version": "3.8.13"
  }
 },
 "nbformat": 4,
 "nbformat_minor": 5
}
