{
 "cells": [
  {
   "cell_type": "code",
   "execution_count": null,
   "id": "e8bf204d",
   "metadata": {},
   "outputs": [],
   "source": [
    "import numpy as np\n",
    "import pandas as pd\n",
    "import xtiff\n",
    "\n",
    "from os import PathLike\n",
    "from pathlib import Path\n",
    "from typing import List, Union\n",
    "from zipfile import ZipFile\n",
    "\n",
    "from steinbock import io\n",
    "from steinbock.preprocessing import imc\n",
    "from steinbock.segmentation import deepcell\n",
    "from steinbock.measurement import intensities, regionprops, neighbors"
   ]
  },
  {
   "cell_type": "markdown",
   "id": "09fb596e",
   "metadata": {},
   "source": [
    "# IMC preprocessing pipeline\n",
    "\n",
    "**steinbock:**  \n",
    "Documentation: https://bodenmillergroup.github.io/steinbock"
   ]
  },
  {
   "cell_type": "markdown",
   "id": "9d71042a",
   "metadata": {},
   "source": [
    "## Settings\n",
    "\n",
    "Example data can be downloaded using the `download_examples.ipynb` script."
   ]
  },
  {
   "cell_type": "markdown",
   "id": "c377a905",
   "metadata": {},
   "source": [
    "### Input and output directories"
   ]
  },
  {
   "cell_type": "code",
   "execution_count": null,
   "id": "00ad95ea",
   "metadata": {},
   "outputs": [],
   "source": [
    "base_dir = Path(\"..\")\n",
    "\n",
    "# Paths to zipped acquisition files\n",
    "raw_dir = base_dir / \"raw\"\n",
    "\n",
    "# Output directories\n",
    "img_dir = base_dir / \"img\"\n",
    "masks_dir = base_dir / \"masks\"\n",
    "segstack_dir = base_dir / \"segstacks\"\n",
    "intensities_dir = base_dir / \"intensities\"\n",
    "regionprops_dir = base_dir / \"regionprops\"\n",
    "neighbors_dir = base_dir / \"neighbors\""
   ]
  },
  {
   "cell_type": "markdown",
   "id": "031ca653",
   "metadata": {},
   "source": [
    "## Extract images from `.mcd` files\n",
    "\n",
    "Documentation: https://bodenmillergroup.github.io/steinbock/latest/cli/preprocessing/#image-conversion"
   ]
  },
  {
   "cell_type": "markdown",
   "id": "459fb7c8",
   "metadata": {},
   "source": [
    "### Prepare the panel\n",
    "#### Panel file and column names"
   ]
  },
  {
   "cell_type": "code",
   "execution_count": null,
   "id": "bf6af2cb",
   "metadata": {},
   "outputs": [],
   "source": [
    "# Path to panel file\n",
    "panel_file = raw_dir / \"panel.csv\"\n",
    "\n",
    "# Panel columns\n",
    "panel_channel_col = \"metal\"\n",
    "panel_name_col = \"name\"\n",
    "panel_keep_col = \"full\"\n",
    "panel_cellseg_col = \"deepcell\""
   ]
  },
  {
   "cell_type": "markdown",
   "id": "39f3bc8b",
   "metadata": {},
   "source": [
    "#### Import the panel"
   ]
  },
  {
   "cell_type": "code",
   "execution_count": null,
   "id": "f8dd07ec",
   "metadata": {},
   "outputs": [],
   "source": [
    "imc_panel = pd.read_csv(panel_file)\n",
    "imc_panel.head()"
   ]
  },
  {
   "cell_type": "markdown",
   "id": "76ad1194",
   "metadata": {},
   "source": [
    "### Unzip\n",
    "\n",
    "Unzip function"
   ]
  },
  {
   "cell_type": "code",
   "execution_count": null,
   "id": "acdd659a",
   "metadata": {},
   "outputs": [],
   "source": [
    "def extract_zips(\n",
    "    path: Union[str, PathLike], suffix: str, dest: Union[str, PathLike]\n",
    ") -> List[Path]:\n",
    "    extracted_files = []\n",
    "    for zip_file_path in Path(path).rglob(\"[!.]*.zip\"):\n",
    "        with ZipFile(zip_file_path) as zip_file:\n",
    "            zip_infos = sorted(zip_file.infolist(), key=lambda x: x.filename)\n",
    "            for zip_info in zip_infos:\n",
    "                if not zip_info.is_dir() and zip_info.filename.endswith(suffix):\n",
    "                    extracted_file = zip_file.extract(zip_info, path=dest)\n",
    "                    extracted_files.append(Path(extracted_file))\n",
    "    return extracted_files"
   ]
  },
  {
   "cell_type": "code",
   "execution_count": null,
   "id": "42d94b98",
   "metadata": {},
   "outputs": [],
   "source": [
    "# Extract .mcd files\n",
    "extract_zips(path=raw_dir, suffix=\".mcd\", dest=raw_dir)"
   ]
  },
  {
   "cell_type": "code",
   "execution_count": null,
   "id": "119d627f",
   "metadata": {},
   "outputs": [],
   "source": [
    "# Extract .txt files\n",
    "extract_zips(path=raw_dir, suffix=\".txt\", dest=raw_dir)"
   ]
  },
  {
   "cell_type": "markdown",
   "id": "3c380948",
   "metadata": {},
   "source": [
    "### Convert to tiff\n",
    "#### Settings\n",
    "\n",
    "**To extract xml from ome tiff, see https://github.com/BodenmillerGroup/xtiff/blob/main/xtiff/ome.py**"
   ]
  },
  {
   "cell_type": "code",
   "execution_count": null,
   "id": "351105f6",
   "metadata": {},
   "outputs": [],
   "source": [
    "tiff_type = \"ome.tiff\"\n",
    "\n",
    "# Value for hot pixel filtering\n",
    "hpf = 50\n",
    "\n",
    "# Channels\n",
    "channel_names = imc_panel[imc_panel[\"keep\"]==1]['channel']\n",
    "\n",
    "# List mcd and txt files\n",
    "mcd_files = imc.list_mcd_files(raw_dir)\n",
    "txt_files = imc.list_txt_files(raw_dir)\n",
    "\n",
    "# Misc\n",
    "img_dir.mkdir(exist_ok=True)"
   ]
  },
  {
   "cell_type": "code",
   "execution_count": null,
   "id": "e2edaca9",
   "metadata": {},
   "outputs": [],
   "source": [
    "# Metadata\n",
    "def extract_metadata(\n",
    "    img_file,\n",
    "    mcd_file,\n",
    "    img,\n",
    "    matched_txt,\n",
    "    recovered\n",
    "):\n",
    "    recovery_file_name = None\n",
    "    if matched_txt is not None:\n",
    "        recovery_file_name = matched_txt.name\n",
    "    \n",
    "    image_info_row = {\n",
    "        \"image\": img_file.name,\n",
    "        \"width_px\": img.shape[2],\n",
    "        \"height_px\": img.shape[1],\n",
    "        \"num_channels\": img.shape[0],\n",
    "        \"source_file\": mcd_file.name,\n",
    "        \"recovery_file\": recovery_file_name,\n",
    "        \"recovered\": recovered,\n",
    "    }\n",
    "    \n",
    "    if acquisition is not None:\n",
    "        image_info_row.update({\n",
    "            \"acquisition_id\": acquisition.id,\n",
    "            \"acquisition_description\": acquisition.description,\n",
    "            \"acquisition_start_x_um\": (acquisition.roi_points_um[0][0]),\n",
    "            \"acquisition_start_y_um\": (acquisition.roi_points_um[0][1]),\n",
    "            \"acquisition_end_x_um\": (acquisition.roi_points_um[2][0]),\n",
    "            \"acquisition_end_y_um\": (acquisition.roi_points_um[2][1]),\n",
    "            \"acquisition_width_um\": acquisition.width_um,\n",
    "            \"acquisition_height_um\": acquisition.height_um\n",
    "        })\n",
    "\n",
    "    image_info_data = pd.DataFrame.from_dict([image_info_row])\n",
    "    return(image_info_data)"
   ]
  },
  {
   "cell_type": "markdown",
   "id": "c1a4e7d5",
   "metadata": {},
   "source": [
    "#### Convert\n",
    "\n",
    "also save image metadata"
   ]
  },
  {
   "cell_type": "code",
   "execution_count": null,
   "id": "67a69966",
   "metadata": {},
   "outputs": [],
   "source": [
    "# Convert to ome.tiff\n",
    "if tiff_type == \"ome.tiff\":\n",
    "    image_info_data = pd.DataFrame()\n",
    "    \n",
    "    for mcd_file, acquisition, img, matched_txt, recovered in imc.try_preprocess_images_from_disk(\n",
    "        mcd_files = mcd_files,\n",
    "        txt_files = txt_files,\n",
    "        hpf = hpf,\n",
    "        channel_names = channel_names\n",
    "    ):\n",
    "        \n",
    "        img_file = Path(img_dir) / f\"{mcd_file.stem}_{acquisition.description}.{tiff_type}\"\n",
    "        ome = xtiff.to_tiff(\n",
    "            img = img,\n",
    "            file = img_file,\n",
    "#             channel_names=imc_panel[\"name\"],\n",
    "#             channel_fluors=imc_panel[\"channel\"]\n",
    "            channel_names=channel_names\n",
    "        )\n",
    "\n",
    "        image_info = extract_metadata(img_file, mcd_file, img, matched_txt, recovered)\n",
    "        image_info_data = pd.concat([image_info_data, image_info])\n",
    "\n",
    "    image_info_data.to_csv(base_dir / \"images.csv\", index=False)"
   ]
  },
  {
   "cell_type": "code",
   "execution_count": null,
   "id": "d795c20c",
   "metadata": {},
   "outputs": [],
   "source": [
    "# # OPTIONAL: Convert to .tiff\n",
    "# if tiff_type == \"tiff\":\n",
    "#     image_info_data = pd.DataFrame()\n",
    "    \n",
    "#     for mcd_file, acquisition, img, matched_txt, recovered in imc.try_preprocess_images_from_disk(\n",
    "#         mcd_files = mcd_files,\n",
    "#         txt_files = txt_files,\n",
    "#         hpf = hpf,\n",
    "#         channel_names = channel_names\n",
    "#     ):\n",
    "#         img_file = Path(img_dir) / f\"{mcd_file.stem}_{acquisition.description}.{tiff_type}\"\n",
    "#         io.write_image(img, img_file)\n",
    "\n",
    "#         image_info = extract_metadata(img_file, mcd_file, img, matched_txt, recovered)\n",
    "#         image_info_data = pd.concat([image_info_data, image_info])\n",
    "\n",
    "#     image_info_data.to_csv(base_dir / \"images.csv\", index=False)"
   ]
  },
  {
   "cell_type": "markdown",
   "id": "8bf2c015",
   "metadata": {},
   "source": [
    "## Cell segmentation"
   ]
  },
  {
   "cell_type": "markdown",
   "id": "502b9013",
   "metadata": {},
   "source": [
    "### Prepare segmentation stacks"
   ]
  },
  {
   "cell_type": "code",
   "execution_count": null,
   "id": "639032fd",
   "metadata": {},
   "outputs": [],
   "source": [
    "keep = imc_panel[\"keep\"]==1\n",
    "channel_groups = imc_panel[keep][\"deepcell\"].values\n",
    "channelwise_zscore = True\n",
    "aggr_func = np.sum\n",
    "segstack_dir.mkdir(exist_ok=True)\n",
    "\n",
    "# Segmentation type\n",
    "segmentation_type = \"whole-cell\""
   ]
  },
  {
   "cell_type": "code",
   "execution_count": null,
   "id": "24251814",
   "metadata": {},
   "outputs": [],
   "source": [
    "for img_path in sorted(Path(img_dir).glob(\"*ome.tiff\")):\n",
    "    img = io.read_image(img_path)\n",
    "    img = img[keep,:,:]\n",
    "    \n",
    "    if channelwise_zscore:\n",
    "        channel_means = np.nanmean(img, axis=(1, 2))\n",
    "        channel_stds = np.nanstd(img, axis=(1, 2))\n",
    "        img -= channel_means[:, np.newaxis, np.newaxis]\n",
    "        img[channel_stds > 0] /= channel_stds[\n",
    "            channel_stds > 0, np.newaxis, np.newaxis\n",
    "        ]\n",
    "                \n",
    "    if channel_groups is not None:\n",
    "        img = np.stack(\n",
    "            [\n",
    "                aggr_func(img[channel_groups == channel_group], axis=0)\n",
    "                for channel_group in np.unique(channel_groups)\n",
    "                if not np.isnan(channel_group)\n",
    "            ]\n",
    "        )\n",
    "    img_file = Path(segstack_dir) / f\"{img_path.name.replace(('.' + tiff_type), '_deepcell.tiff')}\"\n",
    "    io.write_image(img, img_file)"
   ]
  },
  {
   "cell_type": "markdown",
   "id": "052ec9a2",
   "metadata": {},
   "source": [
    "### Segment cells"
   ]
  },
  {
   "cell_type": "code",
   "execution_count": null,
   "id": "52c50ece",
   "metadata": {},
   "outputs": [],
   "source": [
    "segstacks = sorted(Path(segstack_dir).glob(\"*\"  + \"deepcell.tiff\"))\n",
    "masks_dir.mkdir(exist_ok=True)"
   ]
  },
  {
   "cell_type": "code",
   "execution_count": null,
   "id": "8f39a4d5",
   "metadata": {},
   "outputs": [],
   "source": [
    "for img_path, mask in deepcell.try_segment_objects(\n",
    "    img_files = segstacks,\n",
    "    application = deepcell.Application.MESMER,\n",
    "    pixel_size_um = 1.0,\n",
    "    segmentation_type = \"whole-cell\"\n",
    "):\n",
    "    mask_file = Path(masks_dir) / f\"{img_path.stem}_{'mask'}_{segmentation_type}.tiff\"\n",
    "    io.write_mask(mask, mask_file)        "
   ]
  },
  {
   "cell_type": "markdown",
   "id": "ec0bdf3a",
   "metadata": {},
   "source": [
    "## Measure cells\n",
    "\n",
    "#### Create output folders"
   ]
  },
  {
   "cell_type": "code",
   "execution_count": null,
   "id": "44e7d965",
   "metadata": {},
   "outputs": [],
   "source": [
    "intensities_dir.mkdir(exist_ok=True)\n",
    "regionprops_dir.mkdir(exist_ok=True)\n",
    "neighbors_dir.mkdir(exist_ok=True)"
   ]
  },
  {
   "cell_type": "markdown",
   "id": "193f4b4c",
   "metadata": {},
   "source": [
    "### Measure cell intensities per channel"
   ]
  },
  {
   "cell_type": "code",
   "execution_count": null,
   "id": "99849493",
   "metadata": {},
   "outputs": [],
   "source": [
    "for img_path, mask_path, intens in intensities.try_measure_intensities_from_disk(\n",
    "    img_files = io.list_image_files(img_dir),\n",
    "    mask_files = io.list_image_files(masks_dir),\n",
    "    channel_names = imc_panel[\"channel\"],\n",
    "    intensity_aggregation = intensities.IntensityAggregation.MEAN\n",
    "):\n",
    "    intensities_file = Path(intensities_dir) / f\"{mask_path.name.replace('.tiff', '.csv')}\"\n",
    "    pd.DataFrame.to_csv(intens, intensities_file)"
   ]
  },
  {
   "cell_type": "markdown",
   "id": "1c236a9c",
   "metadata": {},
   "source": [
    "### Measure cell spatial properties\n",
    "\n",
    "#### List properties to measure"
   ]
  },
  {
   "cell_type": "code",
   "execution_count": null,
   "id": "74a426fa",
   "metadata": {},
   "outputs": [],
   "source": [
    "skimage_regionprops = [\n",
    "        \"area\",\n",
    "        \"centroid\",\n",
    "        \"major_axis_length\",\n",
    "        \"minor_axis_length\",\n",
    "        \"eccentricity\",\n",
    "    ]"
   ]
  },
  {
   "cell_type": "markdown",
   "id": "5e4c4bb2",
   "metadata": {},
   "source": [
    "#### Measure region props"
   ]
  },
  {
   "cell_type": "code",
   "execution_count": null,
   "id": "c158730e",
   "metadata": {},
   "outputs": [],
   "source": [
    "for img_path, mask_path, region_props in regionprops.try_measure_regionprops_from_disk(\n",
    "    img_files = io.list_image_files(img_dir),\n",
    "    mask_files = io.list_image_files(masks_dir),\n",
    "    skimage_regionprops = skimage_regionprops\n",
    "):\n",
    "    regionprops_file = Path(regionprops_dir) / f\"{mask_path.name.replace('.tiff', '.csv')}\"\n",
    "    pd.DataFrame.to_csv(region_props, regionprops_file)"
   ]
  },
  {
   "cell_type": "markdown",
   "id": "c9ac3b15",
   "metadata": {},
   "source": [
    "### Measure cell neighbors\n",
    "\n",
    "#### Settings\n",
    "\n",
    "Choose dmax (max distance between centroids) and/or kmax (k-nearest neighbors)\n",
    "Neighborhood types:\n",
    "+ NeighborhoodType.CENTROID_DISTANCE,\n",
    "+ NeighborhoodType.EUCLIDEAN_BORDER_DISTANCE,\n",
    "+ NeighborhoodType.EUCLIDEAN_PIXEL_EXPANSION,"
   ]
  },
  {
   "cell_type": "code",
   "execution_count": null,
   "id": "57ebbbf1",
   "metadata": {},
   "outputs": [],
   "source": [
    "neighborhood_type = neighbors.NeighborhoodType.CENTROID_DISTANCE\n",
    "dmax = 15\n",
    "kmax = 5"
   ]
  },
  {
   "cell_type": "markdown",
   "id": "e9da7937",
   "metadata": {},
   "source": [
    "#### Measure cell neighbors"
   ]
  },
  {
   "cell_type": "code",
   "execution_count": null,
   "id": "41702d61",
   "metadata": {},
   "outputs": [],
   "source": [
    "for mask_path, neighb in neighbors.try_measure_neighbors_from_disk(\n",
    "    mask_files = io.list_image_files(masks_dir),\n",
    "    neighborhood_type = neighborhood_type,\n",
    "    metric = \"euclidean\",\n",
    "    dmax = dmax,\n",
    "    kmax = kmax\n",
    "):\n",
    "    neighb_file = Path(neighbors_dir) / f\"{mask_path.name.replace('.tiff', '.csv')}\"\n",
    "    pd.DataFrame.to_csv(neighb, neighb_file)"
   ]
  },
  {
   "cell_type": "code",
   "execution_count": null,
   "id": "7dbb3b34",
   "metadata": {},
   "outputs": [],
   "source": [
    "!conda list"
   ]
  }
 ],
 "metadata": {
  "jupytext": {
   "formats": "ipynb,auto:percent"
  },
  "kernelspec": {
   "display_name": "Python 3 (ipykernel)",
   "language": "python",
   "name": "python3"
  },
  "language_info": {
   "codemirror_mode": {
    "name": "ipython",
    "version": 3
   },
   "file_extension": ".py",
   "mimetype": "text/x-python",
   "name": "python",
   "nbconvert_exporter": "python",
   "pygments_lexer": "ipython3",
   "version": "3.8.13"
  }
 },
 "nbformat": 4,
 "nbformat_minor": 5
}
