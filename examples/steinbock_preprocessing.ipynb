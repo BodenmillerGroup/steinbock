{
 "cells": [
  {
   "cell_type": "code",
   "execution_count": null,
   "id": "9a071950",
   "metadata": {},
   "outputs": [],
   "source": [
    "import matplotlib.pyplot as plt\n",
    "import numpy as np\n",
    "import pandas as pd\n",
    "import xtiff\n",
    "\n",
    "from deepcell.applications import Mesmer\n",
    "from matplotlib.colors import ListedColormap\n",
    "from pathlib import Path\n",
    "from skimage.segmentation import expand_labels\n",
    "from urllib import request\n",
    "import sklearn\n",
    "\n",
    "from steinbock import io\n",
    "from steinbock.preprocessing import imc\n",
    "from steinbock.segmentation import deepcell\n",
    "from steinbock.measurement import intensities, regionprops, neighbors\n",
    "\n",
    "import helpers"
   ]
  },
  {
   "cell_type": "markdown",
   "id": "d50eea91",
   "metadata": {},
   "source": [
    "# IMC preprocessing pipeline\n",
    "\n",
    "This pipeline will extract image data from IMC aquisitions located in the `raw` folder and generate single cell data. Intermediary steps include the extraction of image stacks selected from the panel file as well as segmentation masks. The single cell data is extracted from the chanels selected in the panel.\n",
    "\n",
    "Before running your own script please check the [steinbock documentation](https://bodenmillergroup.github.io/steinbock).\n",
    "\n",
    "*Installation*  \n",
    "To install the required python environment, follow the instructions here: https://bodenmillergroup.github.io/steinbock/latest/install-python/"
   ]
  },
  {
   "cell_type": "markdown",
   "id": "2d86e000",
   "metadata": {},
   "source": [
    "## Settings\n",
    "\n",
    "Example data can be downloaded using the `download_examples.ipynb` script.\n",
    "\n",
    "### Input and output directories\n",
    "\n",
    "Folder structure:"
   ]
  },
  {
   "cell_type": "raw",
   "id": "efad670f",
   "metadata": {},
   "source": [
    "steinbock data/working directory  \n",
    "├── raw   \n",
    "|    └──── *.zip (raw data)\n",
    "├── panel.csv (user-provided, when starting from raw data) \n",
    "├── img (created by this script)  \n",
    "├── segstacks (created by this script)  \n",
    "├── masks (created by this script)  \n",
    "├── intensities (created by this script)  \n",
    "├── regionprops (created by this script)  \n",
    "└── neighbors (created by this script)  "
   ]
  },
  {
   "cell_type": "code",
   "execution_count": null,
   "id": "50695b7c",
   "metadata": {},
   "outputs": [],
   "source": [
    "base_dir = Path(\".\")\n",
    "\n",
    "# Paths to zipped acquisition files\n",
    "raw_dir = base_dir / \"raw\"\n",
    "\n",
    "# Output directories\n",
    "img_dir = base_dir / \"img\"\n",
    "masks_dir = base_dir / \"masks\"\n",
    "segstack_dir = base_dir / \"segstacks\"\n",
    "intensities_dir = base_dir / \"intensities\"\n",
    "regionprops_dir = base_dir / \"regionprops\"\n",
    "neighbors_dir = base_dir / \"neighbors\"\n",
    "\n",
    "# Create directories (if they do not already exist)\n",
    "raw_dir.mkdir(exist_ok=True)\n",
    "img_dir.mkdir(exist_ok=True)\n",
    "masks_dir.mkdir(exist_ok=True)\n",
    "segstack_dir.mkdir(exist_ok=True)\n",
    "intensities_dir.mkdir(exist_ok=True)\n",
    "regionprops_dir.mkdir(exist_ok=True)\n",
    "neighbors_dir.mkdir(exist_ok=True)"
   ]
  },
  {
   "cell_type": "markdown",
   "id": "b5e708f8",
   "metadata": {},
   "source": [
    "## Download IMC example data\n",
    "This section downloads IMC example raw data and the associated antibody panel file used for the experiment. The IMC raw data will be stored in the `raw` folder and the panel will be stored in the `examples` folder.  \n",
    "You can skip the following cell if you are processing your own data."
   ]
  },
  {
   "cell_type": "code",
   "execution_count": null,
   "id": "445bf665",
   "metadata": {},
   "outputs": [],
   "source": [
    "for example_file_name, example_file_url in [\n",
    "    (\"Patient1.zip\", \"https://zenodo.org/record/5949116/files/Patient1.zip\", ),\n",
    "    (\"Patient2.zip\", \"https://zenodo.org/record/5949116/files/Patient2.zip\", ),\n",
    "    (\"Patient3.zip\", \"https://zenodo.org/record/5949116/files/Patient3.zip\", ),\n",
    "    (\"Patient4.zip\", \"https://zenodo.org/record/5949116/files/Patient4.zip\", ),\n",
    "]:\n",
    "    example_file = raw_dir / example_file_name\n",
    "    if not example_file.exists():\n",
    "        request.urlretrieve(example_file_url, example_file)\n",
    "        \n",
    "panel_file = base_dir / \"panel.csv\"\n",
    "if not panel_file.exists():\n",
    "    request.urlretrieve(\"https://zenodo.org/record/6642699/files/panel.csv\",\n",
    "                        panel_file)"
   ]
  },
  {
   "cell_type": "markdown",
   "id": "85f0426c",
   "metadata": {},
   "source": [
    "## Extract images from `.mcd` files\n",
    "\n",
    "Documentation: https://bodenmillergroup.github.io/steinbock/latest/cli/preprocessing/#external-images"
   ]
  },
  {
   "cell_type": "markdown",
   "id": "eb4ea586",
   "metadata": {},
   "source": [
    "### Unzip raw data files\n",
    "\n",
    "zip folders should contain one `.mcd` file and all the associated `.txt` files."
   ]
  },
  {
   "cell_type": "code",
   "execution_count": null,
   "id": "59e38993",
   "metadata": {},
   "outputs": [],
   "source": [
    "# Extract .mcd files\n",
    "helpers.extract_zips(path=raw_dir, suffix=\".mcd\", dest=raw_dir)"
   ]
  },
  {
   "cell_type": "code",
   "execution_count": null,
   "id": "81cffd97",
   "metadata": {},
   "outputs": [],
   "source": [
    "# Extract .txt files\n",
    "helpers.extract_zips(path=raw_dir, suffix=\".txt\", dest=raw_dir)"
   ]
  },
  {
   "cell_type": "markdown",
   "id": "c9e12f6a",
   "metadata": {},
   "source": [
    "### Import the panel\n",
    "The antibody panel file should be placed in the `examples` folder and meet the steinbock format: https://bodenmillergroup.github.io/steinbock/latest/file-types/#panel.  \n",
    "\n",
    "Customized panels should contain the following columns:\n",
    "+ `channel`: unique channel id, typically metal and isotope mass (e.g. `Ir191`)\n",
    "+ `name`: unique channel name.\n",
    "+ `deepcell`: channels to use for segmentation (1=nuclear, 2=membrane, empty/NaN=ignored).\n",
    "+ `keep`: *(optional)* 1 for channels to preprocess, 0 for channels to ignore"
   ]
  },
  {
   "cell_type": "code",
   "execution_count": null,
   "id": "47ff4f10",
   "metadata": {},
   "outputs": [],
   "source": [
    "panel = io.read_panel(base_dir / \"panel.csv\")\n",
    "panel.head()"
   ]
  },
  {
   "cell_type": "markdown",
   "id": "5f312d74",
   "metadata": {},
   "source": [
    "### Create panel from mcd files\n",
    "Alternatively, the panel can directly be created from `.mcd` files.\n",
    "\n",
    "In this case, the panel should be modified as following:\n",
    "- Define which channels to retain for downstream processing (modify the `keep` column).\n",
    "- Define channels to use for deep cell segmentation (see below).\n",
    "- Additional modifications can be made (e.g., rename channel names) if needed."
   ]
  },
  {
   "cell_type": "code",
   "execution_count": null,
   "id": "aee54c35",
   "metadata": {},
   "outputs": [],
   "source": [
    "create_panel_from_mcd = False"
   ]
  },
  {
   "cell_type": "code",
   "execution_count": null,
   "id": "eac0e836",
   "metadata": {},
   "outputs": [],
   "source": [
    "if create_panel_from_mcd:\n",
    "    # Create the panel\n",
    "    panel = imc.create_panel_from_mcd_files(imc.list_mcd_files(raw_dir))\n",
    "\n",
    "    # Channels that will not be keeped\n",
    "    channels_to_discard = [\"ArAr80\", \"Xe131\", \"Xe134\", \"Ba136\", \"La138\", \"Pt196\", \"Pb206\"]\n",
    "    panel.loc[panel[\"channel\"].isin(channels_to_discard), \"keep\"] = False\n",
    "\n",
    "    # Channels for cell segmentation\n",
    "    nuclear_channels = [\"In113\", \"Ir191\", \"Ir193\"]\n",
    "    membrane_channels = [\"Sm147\", \"Sm149\", \"Sm152\", \"Ho165\", \"Yb173\"]\n",
    "    panel.loc[panel[\"channel\"].isin(nuclear_channels), \"deepcell\"] = 1\n",
    "    panel.loc[panel[\"channel\"].isin(membrane_channels), \"deepcell\"] = 2\n",
    "    \n",
    "    # Subset channels\n",
    "    panel = panel[panel[\"keep\"] == 1]\n",
    "    print(panel.head())"
   ]
  },
  {
   "cell_type": "markdown",
   "id": "b119f633",
   "metadata": {},
   "source": [
    "### Convert to tiff\n",
    "\n",
    "Documentation: https://bodenmillergroup.github.io/steinbock/latest/cli/preprocessing/#image-conversion\n",
    "\n",
    "#### Settings\n",
    "Image stacks are extracted from the acquisitions in `.tiff` format."
   ]
  },
  {
   "cell_type": "code",
   "execution_count": null,
   "id": "eafadd9f",
   "metadata": {},
   "outputs": [],
   "source": [
    "extract_metadata = True\n",
    "\n",
    "# Value for hot pixel filtering (see the documentation)\n",
    "hpf = 50"
   ]
  },
  {
   "cell_type": "markdown",
   "id": "0e4ef013",
   "metadata": {},
   "source": [
    "#### Image conversion\n",
    "Extract image stacks from IMC acquisitions (stored in the `img` subfolder) and export metadata as `images.csv`."
   ]
  },
  {
   "cell_type": "code",
   "execution_count": null,
   "id": "951045bf",
   "metadata": {},
   "outputs": [],
   "source": [
    "image_info_data = pd.DataFrame()\n",
    "\n",
    "for mcd_file, acquisition, img, matched_txt, recovered in imc.try_preprocess_images_from_disk(\n",
    "    mcd_files = imc.list_mcd_files(raw_dir),\n",
    "    txt_files = imc.list_txt_files(raw_dir),\n",
    "    hpf = hpf,\n",
    "    channel_names = panel[\"channel\"]\n",
    "):\n",
    "    img_file = Path(img_dir) / f\"{mcd_file.stem}_{acquisition.description}.tiff\"\n",
    "    io.write_image(img, img_file)\n",
    "\n",
    "    if extract_metadata :\n",
    "        image_info = helpers.extract_metadata(img_file, mcd_file, img, acquisition, matched_txt, recovered)\n",
    "        image_info_data = pd.concat([image_info_data, image_info])\n",
    "        \n",
    "if extract_metadata:\n",
    "    image_info_data.to_csv(base_dir / \"images.csv\", index=False)"
   ]
  },
  {
   "cell_type": "markdown",
   "id": "4c4f42df",
   "metadata": {},
   "source": [
    "## Cell segmentation\n",
    "\n",
    "Documentation: https://bodenmillergroup.github.io/steinbock/latest/cli/segmentation/#deepcell  "
   ]
  },
  {
   "cell_type": "markdown",
   "id": "002c73f6",
   "metadata": {},
   "source": [
    "### Prepare segmentation stacks\n",
    "\n",
    "Segmentation stacks are generated by aggregating the channels selcted in `panel.csv` in the column `deepcell`. \n",
    "Cell segmentation requires to construct as 2-channel images with the following structure:\n",
    "+ Channel 1 = nuclear channels\n",
    "+ Channel 2 = cytoplasmic/membranous channels.\n",
    "\n",
    "For channel-wise normalization, zscore and min-max methods are available.  \n",
    "In addition, different functions can be used to aggregate channels. Default: `np.mean`, for other options, see https://numpy.org/doc/stable/reference/routines.statistics.html#averages-and-variances."
   ]
  },
  {
   "cell_type": "code",
   "execution_count": null,
   "id": "0c3541e9",
   "metadata": {},
   "outputs": [],
   "source": [
    "# Define image preprocessing options\n",
    "channelwise_zscore = True\n",
    "channelwise_minmax = False\n",
    "aggr_func = np.sum\n",
    "\n",
    "# Define channels to use for segmentation (from the panel file)\n",
    "channel_groups = panel[\"deepcell\"].values\n",
    "channel_groups = np.where(channel_groups == 0, np.nan, channel_groups) # make sure unselected chanels are set to nan"
   ]
  },
  {
   "cell_type": "markdown",
   "id": "78e08aa7",
   "metadata": {},
   "source": [
    "#### Generate segmentation stacks"
   ]
  },
  {
   "cell_type": "code",
   "execution_count": null,
   "id": "e50b7279",
   "metadata": {},
   "outputs": [],
   "source": [
    "for img_path in sorted(Path(img_dir).glob(\"*.tiff\")):\n",
    "    img = io.read_image(img_path)\n",
    "    if channelwise_minmax:\n",
    "        img = helpers.norm_minmax(img)\n",
    "    \n",
    "    if channelwise_zscore:\n",
    "        img = helpers.norm_zscore(img)\n",
    "    \n",
    "    if channel_groups is not None:\n",
    "        img = helpers.segstack_channels(img, channel_groups, aggr_func)\n",
    "    \n",
    "    img_file = Path(segstack_dir) / f\"{img_path.name}\"\n",
    "    io.write_image(img, img_file)"
   ]
  },
  {
   "cell_type": "markdown",
   "id": "ce0bd5c2",
   "metadata": {},
   "source": [
    "#### Check segmentation stacks"
   ]
  },
  {
   "cell_type": "code",
   "execution_count": null,
   "id": "9d8aa1f4",
   "metadata": {},
   "outputs": [],
   "source": [
    "# List segmentation stacks\n",
    "segstacks = sorted(Path(segstack_dir).glob(\"*.tiff\"))\n",
    "\n",
    "# Select a random image\n",
    "rng = np.random.default_rng()\n",
    "ix = rng.choice(len(segstacks))\n",
    "\n",
    "# Display nuclear and membrane/cytoplasm images\n",
    "fig, ax = plt.subplots(1, 2, figsize=(30, 30))\n",
    "\n",
    "img = io.read_image(segstacks[ix])\n",
    "ax[0].imshow(img[0,:,:], vmin=0, vmax=10) # adjust vmax if needed (lower value = higher intensity)\n",
    "ax[0].set_title(segstacks[ix].stem + \": nuclei\")\n",
    "\n",
    "img = io.read_image(segstacks[ix])\n",
    "ax[1].imshow(img[1,:,:], vmin=0, vmax=10) # adjust vmax if needed (lower value = higher intensity)\n",
    "ax[1].set_title(segstacks[ix].stem + \": membrane\")"
   ]
  },
  {
   "cell_type": "markdown",
   "id": "a61d4c5e",
   "metadata": {},
   "source": [
    "### Segment cells\n",
    "\n",
    "`segmentation_type` should be either `whole-cell` or `nuclear`.\n",
    "\n",
    "The image resolution should also be specified (microns per pixel).\n",
    "\n",
    "Several post-processing arguments can be passed to the deepcell application. Defaults for nuclear and whole-cell segmentation are indicated in brackets.\n",
    "- `maxima_threshold`: set lower if cells are missing (default for nuclear segmentation=0.1, default for nuclear segmentation=0.075).\n",
    "- `maxima_smooth`: (default=0).\n",
    "- `interior_threshold`: set higher if you your nuclei are too large (default=0.2).\n",
    "- `interior_smooth`: larger values give rounder cells (default=2).\n",
    "- `small_objects_threshold`: depends on the image resolution (default=50).\n",
    "- `fill_holes_threshold`: (default=10).  \n",
    "- `radius`: (default=2).\n",
    "\n",
    "Cell labels can also be expanded by defining an `expansion_distance` (mostly useful for nuclear segmentation)."
   ]
  },
  {
   "cell_type": "code",
   "execution_count": null,
   "id": "13fdfc01",
   "metadata": {},
   "outputs": [],
   "source": [
    "# Segmentation type (\"nuclear\" or \"whole-cell\")\n",
    "segmentation_type = \"nuclear\"\n",
    "\n",
    "# Image resolution (microns per pixel)\n",
    "pixel_size_um = 1.0\n",
    "\n",
    "# Post-processing arguments\n",
    "postprocess_kwargs =  {\n",
    "    'maxima_threshold': 0.1,\n",
    "    'maxima_smooth': 0,\n",
    "    'interior_threshold': 0.2,\n",
    "    'interior_smooth': 2,\n",
    "    'small_objects_threshold': 15,\n",
    "    'fill_holes_threshold': 15,\n",
    "    'radius': 2\n",
    "}\n",
    "\n",
    "# Mask pixel expansion (0 = no expansion)\n",
    "expansion_distance = 0"
   ]
  },
  {
   "cell_type": "code",
   "execution_count": null,
   "id": "f4836f8c",
   "metadata": {},
   "outputs": [],
   "source": [
    "# Define output directory for masks\n",
    "masks_subdir = masks_dir / segmentation_type\n",
    "masks_subdir.mkdir(exist_ok=True, parents=True)\n",
    "\n",
    "# Segment cells\n",
    "for img_path, mask in deepcell.try_segment_objects(\n",
    "    img_files = segstacks,\n",
    "    application = deepcell.Application.MESMER,\n",
    "    pixel_size_um = pixel_size_um,\n",
    "    segmentation_type = segmentation_type,\n",
    "    postprocess_kwargs=postprocess_kwargs\n",
    "):\n",
    "    mask = expand_labels(mask, distance=float(expansion_distance))\n",
    "    mask_file = masks_subdir / f\"{img_path.stem}.tiff\"\n",
    "    io.write_mask(mask, mask_file)"
   ]
  },
  {
   "cell_type": "markdown",
   "id": "7f69ca95",
   "metadata": {},
   "source": [
    "#### Check segmentation\n",
    "\n",
    "Adjust the image intensity by modifiying the `max_intensity` variable.  \n",
    "For higher magnification images, adjust the coordinates and dimension if needed."
   ]
  },
  {
   "cell_type": "code",
   "execution_count": null,
   "id": "8ed8f8b8",
   "metadata": {},
   "outputs": [],
   "source": [
    "# Choose either 'nuclear' or 'whole-cell' for downstream processing\n",
    "segmentation_type = \"whole-cell\""
   ]
  },
  {
   "cell_type": "code",
   "execution_count": null,
   "id": "a1ca2470",
   "metadata": {},
   "outputs": [],
   "source": [
    "# List masks\n",
    "masks_subdir = masks_dir / segmentation_type\n",
    "masks = sorted(Path(masks_subdir).glob(\"*.tiff\"))\n",
    "\n",
    "# Define instensity value for images\n",
    "max_intensity = 20 # vmax: lower values = higher intensity\n",
    "\n",
    "# Select a random image\n",
    "ix = rng.choice(len(masks))\n",
    "fig, ax = plt.subplots(2, 2, figsize=(30, 30))\n",
    "\n",
    "# Display image and mask\n",
    "img = io.read_image(segstacks[ix])\n",
    "ax[0,0].imshow(img[0,:,:], vmax=max_intensity)\n",
    "ax[0,0].set_title(segstacks[ix].stem + \": nuclei\")\n",
    "\n",
    "mask = io.read_image(masks[ix])\n",
    "cmap = ListedColormap(np.random.rand(10**3,3))\n",
    "cmap.colors[0]=[1,1,1]\n",
    "ax[0,1].imshow(mask[0,:,:], cmap=cmap)\n",
    "ax[0,1].set_title(masks[ix].stem +\": mask\")\n",
    "\n",
    "## Higher magnification (change coordinates and dimensions if needed)\n",
    "xstart = 100\n",
    "ystart = 100\n",
    "dim = 100\n",
    "\n",
    "ax[1,0].imshow(img[0,:,:], vmin=0, vmax=max_intensity) \n",
    "ax[1,0].set_title(segstacks[ix].stem + \": nuclei\")\n",
    "ax[1,0].set_xlim([xstart, xstart+dim])\n",
    "ax[1,0].set_ylim([ystart, ystart+dim])\n",
    "\n",
    "ax[1,1].imshow(mask[0,:,:], cmap=cmap)\n",
    "ax[1,1].set_title(masks[ix].stem +\": mask\")\n",
    "ax[1,1].set_xlim([xstart, xstart+dim])\n",
    "ax[1,1].set_ylim([ystart, ystart+dim])"
   ]
  },
  {
   "cell_type": "markdown",
   "id": "762f53ea",
   "metadata": {},
   "source": [
    "## Measure cells\n",
    "\n",
    "### Measure cell intensities per channel\n",
    "\n",
    "Documentation: https://bodenmillergroup.github.io/steinbock/latest/cli/measurement/#object-intensities"
   ]
  },
  {
   "cell_type": "code",
   "execution_count": null,
   "id": "006e5dd1",
   "metadata": {},
   "outputs": [],
   "source": [
    "for img_path, mask_path, intens in intensities.try_measure_intensities_from_disk(\n",
    "    img_files = io.list_image_files(img_dir),\n",
    "    mask_files = io.list_image_files(masks_subdir),\n",
    "    channel_names = panel[\"name\"],\n",
    "    intensity_aggregation = intensities.IntensityAggregation.MEAN\n",
    "):\n",
    "    intensities_file = Path(intensities_dir) / f\"{img_path.name.replace('.tiff', '.csv')}\"\n",
    "    pd.DataFrame.to_csv(intens, intensities_file)"
   ]
  },
  {
   "cell_type": "markdown",
   "id": "55a9756f",
   "metadata": {},
   "source": [
    "### Measure cell spatial properties\n",
    "\n",
    "Documentation: https://bodenmillergroup.github.io/steinbock/latest/cli/measurement/#region-properties\n",
    "\n",
    "#### List properties to measure\n",
    "\n",
    "For a full list of measurable properties, refer to https://scikit-image.org/docs/dev/api/skimage.measure.html#skimage.measure.regionprops"
   ]
  },
  {
   "cell_type": "code",
   "execution_count": null,
   "id": "b28c5533",
   "metadata": {},
   "outputs": [],
   "source": [
    "skimage_regionprops = [\n",
    "        \"area\",\n",
    "        \"centroid\",\n",
    "        \"major_axis_length\",\n",
    "        \"minor_axis_length\",\n",
    "        \"eccentricity\",\n",
    "    ]"
   ]
  },
  {
   "cell_type": "markdown",
   "id": "23b3f0e3",
   "metadata": {},
   "source": [
    "#### Measure region props"
   ]
  },
  {
   "cell_type": "code",
   "execution_count": null,
   "id": "bf76122b",
   "metadata": {},
   "outputs": [],
   "source": [
    "for img_path, mask_path, region_props in regionprops.try_measure_regionprops_from_disk(\n",
    "    img_files = io.list_image_files(img_dir),\n",
    "    mask_files = io.list_image_files(masks_subdir),\n",
    "    skimage_regionprops = skimage_regionprops\n",
    "):\n",
    "    \n",
    "    regionprops_file = Path(regionprops_dir) / f\"{img_path.name.replace('.tiff', '.csv')}\"\n",
    "    pd.DataFrame.to_csv(region_props, regionprops_file)"
   ]
  },
  {
   "cell_type": "markdown",
   "id": "e3279a30",
   "metadata": {},
   "source": [
    "### Measure cell neighbors\n",
    "\n",
    "Documentation: https://bodenmillergroup.github.io/steinbock/latest/cli/measurement/#object-neighbors\n",
    "\n",
    "#### Settings\n",
    "\n",
    "*Neighborhood types:*\n",
    "+ `NeighborhoodType.CENTROID_DISTANCE`\n",
    "+ `NeighborhoodType.EUCLIDEAN_BORDER_DISTANCE`\n",
    "+ `NeighborhoodType.EUCLIDEAN_PIXEL_EXPANSION`\n",
    "\n",
    "*Thresholding:*\n",
    "+ `dmax` (max distance between centroids)\n",
    "+ `kmax` (k-nearest neighbors)"
   ]
  },
  {
   "cell_type": "code",
   "execution_count": null,
   "id": "d7e59cd1",
   "metadata": {},
   "outputs": [],
   "source": [
    "neighborhood_type = neighbors.NeighborhoodType.CENTROID_DISTANCE\n",
    "dmax = 15\n",
    "kmax = 5"
   ]
  },
  {
   "cell_type": "markdown",
   "id": "12f4c11a",
   "metadata": {},
   "source": [
    "#### Measure cell neighbors"
   ]
  },
  {
   "cell_type": "code",
   "execution_count": null,
   "id": "a75ad031",
   "metadata": {},
   "outputs": [],
   "source": [
    "for mask_path, neighb in neighbors.try_measure_neighbors_from_disk(\n",
    "    mask_files = io.list_image_files(masks_subdir),\n",
    "    neighborhood_type = neighborhood_type,\n",
    "    metric = \"euclidean\",\n",
    "    dmax = dmax,\n",
    "    kmax = kmax\n",
    "):\n",
    "    neighb_file = Path(neighbors_dir) / f\"{mask_path.name.replace('.tiff', '.csv')}\"\n",
    "    pd.DataFrame.to_csv(neighb, neighb_file, index=False)"
   ]
  },
  {
   "cell_type": "code",
   "execution_count": null,
   "id": "33de5983",
   "metadata": {},
   "outputs": [],
   "source": [
    "!conda list"
   ]
  }
 ],
 "metadata": {
  "jupytext": {
   "formats": "ipynb,py:percent"
  },
  "kernelspec": {
   "display_name": "Python 3 (ipykernel)",
   "language": "python",
   "name": "python3"
  },
  "language_info": {
   "codemirror_mode": {
    "name": "ipython",
    "version": 3
   },
   "file_extension": ".py",
   "mimetype": "text/x-python",
   "name": "python",
   "nbconvert_exporter": "python",
   "pygments_lexer": "ipython3",
   "version": "3.8.13"
  }
 },
 "nbformat": 4,
 "nbformat_minor": 5
}
