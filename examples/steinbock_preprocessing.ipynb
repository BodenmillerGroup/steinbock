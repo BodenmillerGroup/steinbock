{
 "cells": [
  {
   "cell_type": "code",
   "execution_count": null,
   "id": "dbc3fb0a",
   "metadata": {},
   "outputs": [],
   "source": [
    "import matplotlib.pyplot as plt\n",
    "import numpy as np\n",
    "import pandas as pd\n",
    "import xtiff\n",
    "\n",
    "from deepcell.applications import Mesmer\n",
    "from matplotlib.colors import ListedColormap\n",
    "from pathlib import Path\n",
    "from skimage.segmentation import expand_labels\n",
    "import sklearn\n",
    "\n",
    "from steinbock import io\n",
    "from steinbock.preprocessing import imc\n",
    "from steinbock.segmentation import deepcell\n",
    "from steinbock.measurement import intensities, regionprops, neighbors\n",
    "\n",
    "import helpers"
   ]
  },
  {
   "cell_type": "markdown",
   "id": "59a3d694",
   "metadata": {},
   "source": [
    "# IMC preprocessing pipeline\n",
    "\n",
    "This pipeline will extract image data from IMC aquisitions located in the `raw` folder and generate single cell data. Intermediary steps include the extraction of image stacks selected from the panel file as well as segmentation masks. The single cell data is extracted from the chanels selected in the panel.\n",
    "\n",
    "Before running your own script please check the [steinbock documentation](https://bodenmillergroup.github.io/steinbock).\n",
    "\n",
    "*Installation*  \n",
    "To install the required python environment, follow the instructions here: https://bodenmillergroup.github.io/steinbock/latest/install-python/"
   ]
  },
  {
   "cell_type": "markdown",
   "id": "65a2447b",
   "metadata": {},
   "source": [
    "## Settings\n",
    "\n",
    "Example data can be downloaded using the `download_examples.ipynb` script.\n",
    "\n",
    "### Input and output directories\n",
    "\n",
    "Folder structure:"
   ]
  },
  {
   "cell_type": "raw",
   "id": "932bee2e",
   "metadata": {},
   "source": [
    "steinbock data/working directory  \n",
    "├── raw   \n",
    "|    └──── *.zip (raw data)\n",
    "├── panel.csv (user-provided, when starting from raw data) \n",
    "├── img (created by this script)  \n",
    "├── segstacks (created by this script)  \n",
    "├── masks (created by this script)  \n",
    "├── intensities (created by this script)  \n",
    "├── regionprops (created by this script)  \n",
    "└── neighbors (created by this script)  "
   ]
  },
  {
   "cell_type": "code",
   "execution_count": null,
   "id": "3313d473",
   "metadata": {},
   "outputs": [],
   "source": [
    "base_dir = Path(\".\")\n",
    "\n",
    "# Paths to zipped acquisition files\n",
    "raw_dir = base_dir / \"raw\"\n",
    "\n",
    "# Output directories\n",
    "img_dir = base_dir / \"img\"\n",
    "masks_dir = base_dir / \"masks\"\n",
    "segstack_dir = base_dir / \"segstacks\"\n",
    "intensities_dir = base_dir / \"intensities\"\n",
    "regionprops_dir = base_dir / \"regionprops\"\n",
    "neighbors_dir = base_dir / \"neighbors\"\n",
    "\n",
    "# Create directories (if they do not already exist)\n",
    "img_dir.mkdir(exist_ok=True)\n",
    "masks_dir.mkdir(exist_ok=True)\n",
    "segstack_dir.mkdir(exist_ok=True)\n",
    "intensities_dir.mkdir(exist_ok=True)\n",
    "regionprops_dir.mkdir(exist_ok=True)\n",
    "neighbors_dir.mkdir(exist_ok=True)"
   ]
  },
  {
   "cell_type": "markdown",
   "id": "346a4105",
   "metadata": {},
   "source": [
    "## Extract images from `.mcd` files\n",
    "\n",
    "Documentation: https://bodenmillergroup.github.io/steinbock/latest/cli/preprocessing/#external-images\n",
    "\n",
    "### Import the panel\n",
    "The antibody panel should meet the steinbock format: https://bodenmillergroup.github.io/steinbock/latest/file-types/#panel  \n",
    "\n",
    "An example panel corresponding to the example data (downloadable via the `download_examples.ipynb` script is provided.\n",
    "\n",
    "Customized panels should contain the following columns:\n",
    "+ `channel`: unique channel id, typically metal and isotope mass (e.g. `Ir191`)\n",
    "+ `name`: unique channel name.\n",
    "+ `deepcell`: channels to use for segmentation (1=nuclear, 2=membrane, empty/NaN=ignored).\n",
    "+ `keep`: *(optional)* 1 for channels to preprocess, 0 for channels to ignore"
   ]
  },
  {
   "cell_type": "code",
   "execution_count": null,
   "id": "1466bd02",
   "metadata": {},
   "outputs": [],
   "source": [
    "imc_panel = pd.read_csv(base_dir / \"panel.csv\")\n",
    "\n",
    "if \"keep\" in imc_panel.columns:\n",
    "    imc_panel = imc_panel[imc_panel[\"keep\"]==1]\n",
    "imc_panel.head()"
   ]
  },
  {
   "cell_type": "markdown",
   "id": "83fb3a9d",
   "metadata": {},
   "source": [
    "### Unzip\n",
    "\n",
    "zip folders should contain one `.mcd` file and all the associated `.txt` files."
   ]
  },
  {
   "cell_type": "code",
   "execution_count": null,
   "id": "5b55b647",
   "metadata": {},
   "outputs": [],
   "source": [
    "# Extract .mcd files\n",
    "helpers.extract_zips(path=raw_dir, suffix=\".mcd\", dest=raw_dir)"
   ]
  },
  {
   "cell_type": "code",
   "execution_count": null,
   "id": "9c05ef46",
   "metadata": {},
   "outputs": [],
   "source": [
    "# Extract .txt files\n",
    "helpers.extract_zips(path=raw_dir, suffix=\".txt\", dest=raw_dir)"
   ]
  },
  {
   "cell_type": "markdown",
   "id": "da4c9380",
   "metadata": {},
   "source": [
    "### Convert to tiff\n",
    "\n",
    "Documentation: https://bodenmillergroup.github.io/steinbock/latest/cli/preprocessing/#image-conversion\n",
    "\n",
    "#### Settings\n",
    "Image stacks are extracted from the acquisitions in `.tiff` format."
   ]
  },
  {
   "cell_type": "code",
   "execution_count": null,
   "id": "3e70acd1",
   "metadata": {},
   "outputs": [],
   "source": [
    "extract_metadata = True\n",
    "\n",
    "# Value for hot pixel filtering (see the documentation)\n",
    "hpf = 50"
   ]
  },
  {
   "cell_type": "markdown",
   "id": "00340cd6",
   "metadata": {},
   "source": [
    "#### Image conversion\n",
    "Extract image stacks from IMC acquisitions (stored in the `img` subfolder) and export metadata as `images.csv`."
   ]
  },
  {
   "cell_type": "code",
   "execution_count": null,
   "id": "43978b17",
   "metadata": {},
   "outputs": [],
   "source": [
    "image_info_data = pd.DataFrame()\n",
    "\n",
    "for mcd_file, acquisition, img, matched_txt, recovered in imc.try_preprocess_images_from_disk(\n",
    "    mcd_files = imc.list_mcd_files(raw_dir),\n",
    "    txt_files = imc.list_txt_files(raw_dir),\n",
    "    hpf = hpf,\n",
    "    channel_names = imc_panel[\"channel\"]\n",
    "):\n",
    "    img_file = Path(img_dir) / f\"{mcd_file.stem}_{acquisition.description}.tiff\"\n",
    "    io.write_image(img, img_file)\n",
    "\n",
    "    if extract_metadata :\n",
    "        image_info = helpers.extract_metadata(img_file, mcd_file, img, acquisition, matched_txt, recovered)\n",
    "        image_info_data = pd.concat([image_info_data, image_info])\n",
    "        \n",
    "if extract_metadata:\n",
    "    image_info_data.to_csv(base_dir / \"images.csv\", index=False)"
   ]
  },
  {
   "cell_type": "markdown",
   "id": "df8906e4",
   "metadata": {},
   "source": [
    "## Cell segmentation\n",
    "\n",
    "Documentation: https://bodenmillergroup.github.io/steinbock/latest/cli/segmentation/#deepcell  "
   ]
  },
  {
   "cell_type": "markdown",
   "id": "c54ddd81",
   "metadata": {},
   "source": [
    "### Prepare segmentation stacks\n",
    "\n",
    "Segmentation stacks are generated by aggregating the channels selcted in `panel.csv` in the column `deepcell`. \n",
    "Cell segmentation requires to construct as 2-channel images with the following structure:\n",
    "+ Channel 1 = nuclear channels\n",
    "+ Channel 2 = cytoplasmic/membranous channels.\n",
    "\n",
    "For channel-wise normalization, zscore and min-max methods are available.  \n",
    "In addition, different functions can be used to aggregate channels. Default: `np.mean`, for other options, see https://numpy.org/doc/stable/reference/routines.statistics.html#averages-and-variances."
   ]
  },
  {
   "cell_type": "code",
   "execution_count": null,
   "id": "efbedb63",
   "metadata": {},
   "outputs": [],
   "source": [
    "# Define image preprocessing options\n",
    "channelwise_zscore = True\n",
    "channelwise_minmax = False\n",
    "aggr_func = np.sum\n",
    "\n",
    "# Define channels to use for segmentation (from the panel file)\n",
    "channel_groups = imc_panel[\"deepcell\"].values\n",
    "channel_groups = np.where(channel_groups == 0, np.nan, channel_groups) # make sure unselected chanels are set to nan"
   ]
  },
  {
   "cell_type": "markdown",
   "id": "7c87e52a",
   "metadata": {},
   "source": [
    "#### Generate segmentation stacks"
   ]
  },
  {
   "cell_type": "code",
   "execution_count": null,
   "id": "989243f6",
   "metadata": {},
   "outputs": [],
   "source": [
    "for img_path in sorted(Path(img_dir).glob(\"*.tiff\")):\n",
    "    img = io.read_image(img_path)\n",
    "    if channelwise_minmax:\n",
    "        img = helpers.norm_minmax(img)\n",
    "    \n",
    "    if channelwise_zscore:\n",
    "        img = helpers.norm_zscore(img)\n",
    "    \n",
    "    if channel_groups is not None:\n",
    "        img = helpers.segstack_channels(img, channel_groups, aggr_func)\n",
    "    \n",
    "    img_file = Path(segstack_dir) / f\"{img_path.name}\"\n",
    "    io.write_image(img, img_file)"
   ]
  },
  {
   "cell_type": "markdown",
   "id": "5aa815e8",
   "metadata": {},
   "source": [
    "#### Check segmentation stacks"
   ]
  },
  {
   "cell_type": "code",
   "execution_count": null,
   "id": "54c623a7",
   "metadata": {},
   "outputs": [],
   "source": [
    "# List segmentation stacks\n",
    "segstacks = sorted(Path(segstack_dir).glob(\"*.tiff\"))\n",
    "\n",
    "# Select a random image\n",
    "rng = np.random.default_rng()\n",
    "ix = rng.choice(len(segstacks))\n",
    "\n",
    "# Display nuclear and membrane/cytoplasm images\n",
    "fig, ax = plt.subplots(1, 2, figsize=(30, 30))\n",
    "\n",
    "img = io.read_image(segstacks[ix])\n",
    "ax[0].imshow(img[0,:,:], vmin=0, vmax=10) # adjust vmax if needed (lower value = higher intensity)\n",
    "ax[0].set_title(segstacks[ix].stem + \": nuclei\")\n",
    "\n",
    "img = io.read_image(segstacks[ix])\n",
    "ax[1].imshow(img[1,:,:], vmin=0, vmax=10) # adjust vmax if needed (lower value = higher intensity)\n",
    "ax[1].set_title(segstacks[ix].stem + \": membrane\")"
   ]
  },
  {
   "cell_type": "markdown",
   "id": "74b2fad6",
   "metadata": {},
   "source": [
    "### Segment cells\n",
    "\n",
    "`segmentation_type` should be one of [`whole-cell`, `nuclear`, `both`].  \n",
    "If `both` is selected, nuclear and whole-cell masks will be generated in separate subfolders.  \n",
    "\n",
    "Several post-processing arguments can be passed to the deepcell application, the defaults are selected below. Cell labels can also be expanded by defining an `expansion_distance` (mostly useful for nuclear segmentation)."
   ]
  },
  {
   "cell_type": "code",
   "execution_count": null,
   "id": "5804673e",
   "metadata": {},
   "outputs": [],
   "source": [
    "# Segmentation type\n",
    "segmentation_type = \"both\"\n",
    "\n",
    "# Post-processing arguments for whole-cell segmentation\n",
    "kwargs_whole_cell =  {\n",
    "    'maxima_threshold': 0.075,\n",
    "    'maxima_smooth': 0,\n",
    "    'interior_threshold': 0.2,\n",
    "    'interior_smooth': 2,\n",
    "    'small_objects_threshold': 15,\n",
    "    'fill_holes_threshold': 15,\n",
    "    'radius': 2\n",
    "}\n",
    "\n",
    "# Post-processing arguments for nuclear segmentation\n",
    "kwargs_nuclear =  {\n",
    "    'maxima_threshold': 0.1,\n",
    "    'maxima_smooth': 0,\n",
    "    'interior_threshold': 0.2,\n",
    "    'interior_smooth': 2,\n",
    "    'small_objects_threshold': 15,\n",
    "    'fill_holes_threshold': 15,\n",
    "    'radius': 2\n",
    "}\n",
    "\n",
    "# Mask pixel expansion (0 = no expansion)\n",
    "expansion_distance = 0"
   ]
  },
  {
   "cell_type": "code",
   "execution_count": null,
   "id": "ec5ab270",
   "metadata": {},
   "outputs": [],
   "source": [
    "app = Mesmer()\n",
    "\n",
    "for stack in segstacks:\n",
    "    img = io.read_image(stack)\n",
    "    img = np.moveaxis(img, 0, 2)\n",
    "    img = np.expand_dims(img.data, 0)\n",
    "    \n",
    "    mask = app.predict(\n",
    "        img, image_mpp=1, compartment=segmentation_type,\n",
    "        postprocess_kwargs_whole_cell=kwargs_whole_cell,\n",
    "        postprocess_kwargs_nuclear=kwargs_nuclear\n",
    "    )\n",
    "    \n",
    "    helpers.save_masks(\n",
    "        mask, masks_dir, stack.name,\n",
    "        segmentation_type, expansion_distance\n",
    "    )"
   ]
  },
  {
   "cell_type": "code",
   "execution_count": null,
   "id": "a711cbde",
   "metadata": {},
   "outputs": [],
   "source": [
    "# # Generating masks using steinbock's function\n",
    "# for img_path, mask in deepcell.try_segment_objects(\n",
    "#     img_files = segstacks,\n",
    "#     application = deepcell.Application.MESMER,\n",
    "#     pixel_size_um = 1.0,\n",
    "#     segmentation_type = segmentation_type\n",
    "# ):\n",
    "#     mask = expand_labels(mask, distance=float(expansion_distance))\n",
    "    \n",
    "#     mask_file = Path(masks_subdir) / f\"{img_path.stem}.tiff\"\n",
    "#     io.write_mask(mask, mask_file)"
   ]
  },
  {
   "cell_type": "markdown",
   "id": "c65db4d9",
   "metadata": {},
   "source": [
    "#### Check segmentation\n",
    "\n",
    "Adjust the image intensity by modifiying the `max_intensity` variable.  \n",
    "For higher magnification images, adjust the coordinates and dimension if needed."
   ]
  },
  {
   "cell_type": "code",
   "execution_count": null,
   "id": "39767930",
   "metadata": {},
   "outputs": [],
   "source": [
    "# Choose either 'nuclear' or 'whole-cell' for downstream processing\n",
    "segmentation_type = \"nuclear\""
   ]
  },
  {
   "cell_type": "code",
   "execution_count": null,
   "id": "a57d7937",
   "metadata": {},
   "outputs": [],
   "source": [
    "# List masks\n",
    "masks_subdir = masks_dir / segmentation_type\n",
    "masks = sorted(Path(masks_subdir).glob(\"*.tiff\"))\n",
    "\n",
    "# Define instensity value for images\n",
    "max_intensity = 20 # vmax: lower values = higher intensity\n",
    "\n",
    "# Select a random image\n",
    "ix = rng.choice(len(masks))\n",
    "fig, ax = plt.subplots(2, 2, figsize=(30, 30))\n",
    "\n",
    "# Display image and mask\n",
    "img = io.read_image(segstacks[ix])\n",
    "ax[0,0].imshow(img[0,:,:], vmax=max_intensity)\n",
    "ax[0,0].set_title(segstacks[ix].stem + \": nuclei\")\n",
    "\n",
    "mask = io.read_image(masks[ix])\n",
    "cmap = ListedColormap(np.random.rand(10**3,3))\n",
    "cmap.colors[0]=[1,1,1]\n",
    "ax[0,1].imshow(mask[0,:,:], cmap=cmap)\n",
    "ax[0,1].set_title(masks[ix].stem +\": mask\")\n",
    "\n",
    "## Higher magnification (change coordinates and dimensions if needed)\n",
    "xstart = 100\n",
    "ystart = 100\n",
    "dim = 100\n",
    "\n",
    "ax[1,0].imshow(img[0,:,:], vmin=0, vmax=max_intensity) \n",
    "ax[1,0].set_title(segstacks[ix].stem + \": nuclei\")\n",
    "ax[1,0].set_xlim([xstart, xstart+dim])\n",
    "ax[1,0].set_ylim([ystart, ystart+dim])\n",
    "\n",
    "ax[1,1].imshow(mask[0,:,:], cmap=cmap)\n",
    "ax[1,1].set_title(masks[ix].stem +\": mask\")\n",
    "ax[1,1].set_xlim([xstart, xstart+dim])\n",
    "ax[1,1].set_ylim([ystart, ystart+dim])"
   ]
  },
  {
   "cell_type": "markdown",
   "id": "a7c70850",
   "metadata": {},
   "source": [
    "## Measure cells\n",
    "\n",
    "### Measure cell intensities per channel\n",
    "\n",
    "Documentation: https://bodenmillergroup.github.io/steinbock/latest/cli/measurement/#object-intensities"
   ]
  },
  {
   "cell_type": "code",
   "execution_count": null,
   "id": "ce5115b5",
   "metadata": {},
   "outputs": [],
   "source": [
    "for img_path, mask_path, intens in intensities.try_measure_intensities_from_disk(\n",
    "    img_files = io.list_image_files(img_dir),\n",
    "    mask_files = io.list_image_files(masks_subdir),\n",
    "    channel_names = imc_panel[\"name\"],\n",
    "    intensity_aggregation = intensities.IntensityAggregation.MEAN\n",
    "):\n",
    "    intensities_file = Path(intensities_dir) / f\"{img_path.name.replace('.tiff', '.csv')}\"\n",
    "    pd.DataFrame.to_csv(intens, intensities_file)"
   ]
  },
  {
   "cell_type": "markdown",
   "id": "04039465",
   "metadata": {},
   "source": [
    "### Measure cell spatial properties\n",
    "\n",
    "Documentation: https://bodenmillergroup.github.io/steinbock/latest/cli/measurement/#region-properties\n",
    "\n",
    "#### List properties to measure\n",
    "\n",
    "For a full list of measurable properties, refer to https://scikit-image.org/docs/dev/api/skimage.measure.html#skimage.measure.regionprops"
   ]
  },
  {
   "cell_type": "code",
   "execution_count": null,
   "id": "3f2f1692",
   "metadata": {},
   "outputs": [],
   "source": [
    "skimage_regionprops = [\n",
    "        \"area\",\n",
    "        \"centroid\",\n",
    "        \"major_axis_length\",\n",
    "        \"minor_axis_length\",\n",
    "        \"eccentricity\",\n",
    "    ]"
   ]
  },
  {
   "cell_type": "markdown",
   "id": "4247a43f",
   "metadata": {},
   "source": [
    "#### Measure region props"
   ]
  },
  {
   "cell_type": "code",
   "execution_count": null,
   "id": "8e365725",
   "metadata": {},
   "outputs": [],
   "source": [
    "for img_path, mask_path, region_props in regionprops.try_measure_regionprops_from_disk(\n",
    "    img_files = io.list_image_files(img_dir),\n",
    "    mask_files = io.list_image_files(masks_subdir),\n",
    "    skimage_regionprops = skimage_regionprops\n",
    "):\n",
    "    \n",
    "    regionprops_file = Path(regionprops_dir) / f\"{img_path.name.replace('.tiff', '.csv')}\"\n",
    "    pd.DataFrame.to_csv(region_props, regionprops_file)"
   ]
  },
  {
   "cell_type": "markdown",
   "id": "1e76803d",
   "metadata": {},
   "source": [
    "### Measure cell neighbors\n",
    "\n",
    "Documentation: https://bodenmillergroup.github.io/steinbock/latest/cli/measurement/#object-neighbors\n",
    "\n",
    "#### Settings\n",
    "\n",
    "*Neighborhood types:*\n",
    "+ `NeighborhoodType.CENTROID_DISTANCE`\n",
    "+ `NeighborhoodType.EUCLIDEAN_BORDER_DISTANCE`\n",
    "+ `NeighborhoodType.EUCLIDEAN_PIXEL_EXPANSION`\n",
    "\n",
    "*Thresholding:*\n",
    "+ `dmax` (max distance between centroids)\n",
    "+ `kmax` (k-nearest neighbors)"
   ]
  },
  {
   "cell_type": "code",
   "execution_count": null,
   "id": "6f2384e3",
   "metadata": {},
   "outputs": [],
   "source": [
    "neighborhood_type = neighbors.NeighborhoodType.CENTROID_DISTANCE\n",
    "dmax = 15\n",
    "kmax = 5"
   ]
  },
  {
   "cell_type": "markdown",
   "id": "fe618d14",
   "metadata": {},
   "source": [
    "#### Measure cell neighbors"
   ]
  },
  {
   "cell_type": "code",
   "execution_count": null,
   "id": "1fb85859",
   "metadata": {},
   "outputs": [],
   "source": [
    "for mask_path, neighb in neighbors.try_measure_neighbors_from_disk(\n",
    "    mask_files = io.list_image_files(masks_subdir),\n",
    "    neighborhood_type = neighborhood_type,\n",
    "    metric = \"euclidean\",\n",
    "    dmax = dmax,\n",
    "    kmax = kmax\n",
    "):\n",
    "    neighb_file = Path(neighbors_dir) / f\"{mask_path.name.replace('.tiff', '.csv')}\"\n",
    "    pd.DataFrame.to_csv(neighb, neighb_file, index=False)"
   ]
  },
  {
   "cell_type": "code",
   "execution_count": null,
   "id": "908c6892",
   "metadata": {},
   "outputs": [],
   "source": [
    "!conda list"
   ]
  }
 ],
 "metadata": {
  "jupytext": {
   "formats": "ipynb,py:percent"
  },
  "kernelspec": {
   "display_name": "Python 3 (ipykernel)",
   "language": "python",
   "name": "python3"
  },
  "language_info": {
   "codemirror_mode": {
    "name": "ipython",
    "version": 3
   },
   "file_extension": ".py",
   "mimetype": "text/x-python",
   "name": "python",
   "nbconvert_exporter": "python",
   "pygments_lexer": "ipython3",
   "version": "3.8.13"
  }
 },
 "nbformat": 4,
 "nbformat_minor": 5
}
