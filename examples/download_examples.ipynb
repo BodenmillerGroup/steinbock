{
 "cells": [
  {
   "cell_type": "markdown",
   "id": "0f469e62",
   "metadata": {},
   "source": [
    "\n",
    "# Download IMC example data\n"
   ]
  },
  {
   "cell_type": "markdown",
   "id": "415babf0",
   "metadata": {},
   "source": [
    "This script downloads Imaging Mass Cytometry example raw data. These data will be stored in the `raw` folder and can be used to test the `steinbock_processing` notebook."
   ]
  },
  {
   "cell_type": "code",
   "execution_count": null,
   "id": "2e52b809",
   "metadata": {},
   "outputs": [],
   "source": [
    "from pathlib import Path\n",
    "from urllib import request\n",
    "\n",
    "raw_folder = Path(\"./raw\")\n",
    "raw_folder.mkdir(exist_ok=True, parents=True)\n",
    "\n",
    "# Raw data\n",
    "for example_file_name, example_file_url in [\n",
    "    (\n",
    "        \"Patient1.zip\",\n",
    "        \"https://zenodo.org/record/5949116/files/Patient1.zip\",\n",
    "    ),\n",
    "    (\n",
    "        \"Patient2.zip\",\n",
    "        \"https://zenodo.org/record/5949116/files/Patient2.zip\",\n",
    "    ),\n",
    "    (\n",
    "        \"Patient3.zip\",\n",
    "        \"https://zenodo.org/record/5949116/files/Patient3.zip\",\n",
    "    ),\n",
    "    (\n",
    "        \"Patient4.zip\",\n",
    "        \"https://zenodo.org/record/5949116/files/Patient4.zip\",\n",
    "    )\n",
    "]:\n",
    "    example_file = raw_folder / example_file_name\n",
    "    if not example_file.exists():\n",
    "        request.urlretrieve(example_file_url, example_file)"
   ]
  },
  {
   "cell_type": "code",
   "execution_count": null,
   "id": "78f4d1bf",
   "metadata": {},
   "outputs": [],
   "source": [
    "!conda list"
   ]
  }
 ],
 "metadata": {
  "jupytext": {
   "cell_metadata_filter": "-all",
   "formats": "auto:percent,ipynb",
   "notebook_metadata_filter": "-all"
  },
  "kernelspec": {
   "display_name": "Python 3 (ipykernel)",
   "language": "python",
   "name": "python3"
  },
  "language_info": {
   "codemirror_mode": {
    "name": "ipython",
    "version": 3
   },
   "file_extension": ".py",
   "mimetype": "text/x-python",
   "name": "python",
   "nbconvert_exporter": "python",
   "pygments_lexer": "ipython3",
   "version": "3.8.13"
  }
 },
 "nbformat": 4,
 "nbformat_minor": 5
}
