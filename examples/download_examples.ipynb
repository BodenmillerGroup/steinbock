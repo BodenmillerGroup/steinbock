{
 "cells": [
  {
   "cell_type": "markdown",
   "id": "9d794ef9",
   "metadata": {},
   "source": [
    "\n",
    "# Download IMC example data\n"
   ]
  },
  {
   "cell_type": "markdown",
   "id": "e5fc1234",
   "metadata": {},
   "source": [
    "This script downloads IMC example raw data, a fully trained `Ilastik` pixel classifier, the panel file used for the experiment and sample metadata (the cancer type of the patient). The IMC raw data will be stored in the `raw` folder together with the panel file. The ilastik project and the sample metadata will be stored in the root of the repository."
   ]
  },
  {
   "cell_type": "code",
   "execution_count": null,
   "id": "473c8d3a",
   "metadata": {},
   "outputs": [],
   "source": [
    "from pathlib import Path\n",
    "from urllib import request\n",
    "\n",
    "raw_folder = Path(\"../raw\")\n",
    "raw_folder.mkdir(exist_ok=True, parents=True)\n",
    "\n",
    "# Raw data and panel\n",
    "for example_file_name, example_file_url in [\n",
    "    (\n",
    "        \"Patient1.zip\",\n",
    "        \"https://zenodo.org/record/5949116/files/Patient1.zip\",\n",
    "    ),\n",
    "    (\n",
    "        \"Patient2.zip\",\n",
    "        \"https://zenodo.org/record/5949116/files/Patient2.zip\",\n",
    "    ),\n",
    "    (\n",
    "        \"Patient3.zip\",\n",
    "        \"https://zenodo.org/record/5949116/files/Patient3.zip\",\n",
    "    ),\n",
    "    (\n",
    "        \"Patient4.zip\",\n",
    "        \"https://zenodo.org/record/5949116/files/Patient4.zip\",\n",
    "    )\n",
    "]:\n",
    "    example_file = raw_folder / example_file_name\n",
    "    if not example_file.exists():\n",
    "        request.urlretrieve(example_file_url, example_file)"
   ]
  },
  {
   "cell_type": "code",
   "execution_count": null,
   "id": "ef9f5939",
   "metadata": {},
   "outputs": [],
   "source": [
    "!conda list"
   ]
  }
 ],
 "metadata": {
  "jupytext": {
   "cell_metadata_filter": "-all",
   "formats": "auto:percent,ipynb",
   "notebook_metadata_filter": "-all"
  },
  "kernelspec": {
   "display_name": "Python 3 (ipykernel)",
   "language": "python",
   "name": "python3"
  },
  "language_info": {
   "codemirror_mode": {
    "name": "ipython",
    "version": 3
   },
   "file_extension": ".py",
   "mimetype": "text/x-python",
   "name": "python",
   "nbconvert_exporter": "python",
   "pygments_lexer": "ipython3",
   "version": "3.8.13"
  }
 },
 "nbformat": 4,
 "nbformat_minor": 5
}
