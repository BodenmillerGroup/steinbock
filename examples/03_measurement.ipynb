{
 "cells": [
  {
   "cell_type": "code",
   "execution_count": null,
   "id": "58f42cf8",
   "metadata": {},
   "outputs": [],
   "source": [
    "import numpy as np\n",
    "import pandas as pd\n",
    "\n",
    "from pathlib import Path\n",
    "\n",
    "from steinbock import io\n",
    "from steinbock.measurement import intensities, regionprops, neighbors"
   ]
  },
  {
   "cell_type": "markdown",
   "id": "59b8ec02",
   "metadata": {},
   "source": [
    "# Measurement\n",
    "\n",
    "This notebook is the third and last in the image preprocessing pipeline and should be run after the `segmentation` notebook.\n",
    "\n",
    "Here, we will export single cell measurements from multichannel image stacks using the cell segmentation masks that were created in the previous notebook (`segmentation`).\n",
    "\n",
    "Before running your own script please check the [steinbock documentation](https://bodenmillergroup.github.io/steinbock)."
   ]
  },
  {
   "cell_type": "markdown",
   "id": "c237d619",
   "metadata": {},
   "source": [
    "## Settings\n",
    "\n",
    "### Input and output directories\n",
    "Use the same working directory as in the `preprocessing` notebook (by default, the `examples` folder).\n",
    "\n",
    "Folder structure:"
   ]
  },
  {
   "cell_type": "raw",
   "id": "1912af59",
   "metadata": {},
   "source": [
    "steinbock data/working directory  \n",
    "├── raw   \n",
    "|    └──── *.zip (raw data)\n",
    "├── panel.csv (user-provided, when starting from raw data) \n",
    "├── img (created by this script)  \n",
    "├── segstacks (created by this script)  \n",
    "├── masks (created by this script)  \n",
    "├── intensities (created by this script)  \n",
    "├── regionprops (created by this script)  \n",
    "└── neighbors (created by this script)  "
   ]
  },
  {
   "cell_type": "code",
   "execution_count": null,
   "id": "5edab86b",
   "metadata": {},
   "outputs": [],
   "source": [
    "working_dir = Path(\".\")\n",
    "\n",
    "# Output directories\n",
    "img_dir = working_dir / \"img\"\n",
    "masks_dir = working_dir / \"masks\"\n",
    "intensities_dir = working_dir / \"intensities\"\n",
    "regionprops_dir = working_dir / \"regionprops\"\n",
    "neighbors_dir = working_dir / \"neighbors\"\n",
    "\n",
    "# Create directories (if they do not already exist)\n",
    "img_dir.mkdir(exist_ok=True)\n",
    "masks_dir.mkdir(exist_ok=True)\n",
    "intensities_dir.mkdir(exist_ok=True)\n",
    "regionprops_dir.mkdir(exist_ok=True)\n",
    "neighbors_dir.mkdir(exist_ok=True)"
   ]
  },
  {
   "cell_type": "markdown",
   "id": "e48d05f4",
   "metadata": {},
   "source": [
    "### Import the antibody panel"
   ]
  },
  {
   "cell_type": "code",
   "execution_count": null,
   "id": "fce3bf0e",
   "metadata": {},
   "outputs": [],
   "source": [
    "panel_file = working_dir / \"panel.csv\"\n",
    "panel = io.read_panel(panel_file)\n",
    "panel.head()"
   ]
  },
  {
   "cell_type": "markdown",
   "id": "9427cec3",
   "metadata": {},
   "source": [
    "### Segmentation type\n",
    "\n",
    "Define the segmentation type to use for data extraction: either `nuclear` or `whole-cell`. Corresponding masks must have been generated in the previous notebook (`segmentation`)."
   ]
  },
  {
   "cell_type": "code",
   "execution_count": null,
   "id": "019e793e",
   "metadata": {},
   "outputs": [],
   "source": [
    "segmentation_type = \"nuclear\"\n",
    "\n",
    "# Define the masks output directory\n",
    "masks_subdir = masks_dir / segmentation_type\n",
    "masks_subdir.mkdir(exist_ok=True, parents=True)"
   ]
  },
  {
   "cell_type": "markdown",
   "id": "bc548d74",
   "metadata": {},
   "source": [
    "## Measure cell intensities per channel\n",
    "\n",
    "Documentation: https://bodenmillergroup.github.io/steinbock/latest/cli/measurement/#object-intensities"
   ]
  },
  {
   "cell_type": "code",
   "execution_count": null,
   "id": "353a9fc5",
   "metadata": {},
   "outputs": [],
   "source": [
    "for img_path, mask_path, intens in intensities.try_measure_intensities_from_disk(\n",
    "    img_files = io.list_image_files(img_dir),\n",
    "    mask_files = io.list_image_files(masks_subdir),\n",
    "    channel_names = panel[\"name\"],\n",
    "    intensity_aggregation = intensities.IntensityAggregation.MEAN\n",
    "):\n",
    "    intensities_file = Path(intensities_dir) / f\"{img_path.name.replace('.tiff', '.csv')}\"\n",
    "    pd.DataFrame.to_csv(intens, intensities_file)"
   ]
  },
  {
   "cell_type": "markdown",
   "id": "9d979e8b",
   "metadata": {},
   "source": [
    "## Measure cell spatial properties\n",
    "\n",
    "Documentation: https://bodenmillergroup.github.io/steinbock/latest/cli/measurement/#region-properties\n",
    "\n",
    "### List properties to measure\n",
    "\n",
    "For a full list of measurable properties, refer to https://scikit-image.org/docs/dev/api/skimage.measure.html#skimage.measure.regionprops"
   ]
  },
  {
   "cell_type": "code",
   "execution_count": null,
   "id": "043b9e78",
   "metadata": {},
   "outputs": [],
   "source": [
    "skimage_regionprops = [\n",
    "        \"area\",\n",
    "        \"centroid\",\n",
    "        \"major_axis_length\",\n",
    "        \"minor_axis_length\",\n",
    "        \"eccentricity\",\n",
    "    ]"
   ]
  },
  {
   "cell_type": "markdown",
   "id": "6d684831",
   "metadata": {},
   "source": [
    "### Measure region properties"
   ]
  },
  {
   "cell_type": "code",
   "execution_count": null,
   "id": "6c09716c",
   "metadata": {},
   "outputs": [],
   "source": [
    "for img_path, mask_path, region_props in regionprops.try_measure_regionprops_from_disk(\n",
    "    img_files = io.list_image_files(img_dir),\n",
    "    mask_files = io.list_image_files(masks_subdir),\n",
    "    skimage_regionprops = skimage_regionprops\n",
    "):\n",
    "    \n",
    "    regionprops_file = Path(regionprops_dir) / f\"{img_path.name.replace('.tiff', '.csv')}\"\n",
    "    pd.DataFrame.to_csv(region_props, regionprops_file)"
   ]
  },
  {
   "cell_type": "markdown",
   "id": "1af6b25b",
   "metadata": {},
   "source": [
    "## Measure cell neighbors\n",
    "\n",
    "Documentation: https://bodenmillergroup.github.io/steinbock/latest/cli/measurement/#object-neighbors\n",
    "\n",
    "### Settings\n",
    "\n",
    "*Neighborhood types:*\n",
    "+ `NeighborhoodType.CENTROID_DISTANCE`\n",
    "+ `NeighborhoodType.EUCLIDEAN_BORDER_DISTANCE`\n",
    "+ `NeighborhoodType.EUCLIDEAN_PIXEL_EXPANSION`\n",
    "\n",
    "*Thresholding:*\n",
    "+ `dmax` (max distance between centroids)\n",
    "+ `kmax` (k-nearest neighbors)"
   ]
  },
  {
   "cell_type": "code",
   "execution_count": null,
   "id": "e9e5871e",
   "metadata": {},
   "outputs": [],
   "source": [
    "neighborhood_type = neighbors.NeighborhoodType.CENTROID_DISTANCE\n",
    "dmax = 15\n",
    "kmax = 5"
   ]
  },
  {
   "cell_type": "markdown",
   "id": "c20ddef0",
   "metadata": {},
   "source": [
    "### Measure cell neighbors"
   ]
  },
  {
   "cell_type": "code",
   "execution_count": null,
   "id": "c1204c66",
   "metadata": {},
   "outputs": [],
   "source": [
    "for mask_path, neighb in neighbors.try_measure_neighbors_from_disk(\n",
    "    mask_files = io.list_image_files(masks_subdir),\n",
    "    neighborhood_type = neighborhood_type,\n",
    "    metric = \"euclidean\",\n",
    "    dmax = dmax,\n",
    "    kmax = kmax\n",
    "):\n",
    "    neighb_file = Path(neighbors_dir) / f\"{mask_path.name.replace('.tiff', '.csv')}\"\n",
    "    pd.DataFrame.to_csv(neighb, neighb_file, index=False)"
   ]
  },
  {
   "cell_type": "code",
   "execution_count": null,
   "id": "5e85f98f",
   "metadata": {},
   "outputs": [],
   "source": [
    "!conda list"
   ]
  }
 ],
 "metadata": {
  "jupytext": {
   "formats": "ipynb,py:percent"
  },
  "kernelspec": {
   "display_name": "Python 3 (ipykernel)",
   "language": "python",
   "name": "python3"
  },
  "language_info": {
   "codemirror_mode": {
    "name": "ipython",
    "version": 3
   },
   "file_extension": ".py",
   "mimetype": "text/x-python",
   "name": "python",
   "nbconvert_exporter": "python",
   "pygments_lexer": "ipython3",
   "version": "3.8.15"
  }
 },
 "nbformat": 4,
 "nbformat_minor": 5
}
