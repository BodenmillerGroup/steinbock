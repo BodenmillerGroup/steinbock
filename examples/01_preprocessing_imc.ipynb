{
 "cells": [
  {
   "cell_type": "code",
   "execution_count": null,
   "id": "2b4a6d73",
   "metadata": {},
   "outputs": [],
   "source": [
    "import pandas as pd\n",
    "\n",
    "from pathlib import Path\n",
    "from urllib import request\n",
    "\n",
    "from steinbock import io\n",
    "from steinbock.preprocessing import imc"
   ]
  },
  {
   "cell_type": "markdown",
   "id": "6d47bab2",
   "metadata": {},
   "source": [
    "# IMC preprocessing pipeline\n",
    "\n",
    "The full pipeline consists of three separate notebooks that have to be run\n",
    "successively: `preprocessing` (current notebook), `segmentation`, and `measurement`.\n",
    "\n",
    "Here, we will extract image data from IMC aquisitions located in the `raw` folder and\n",
    "generate `.tiff` image stacks.\n",
    "\n",
    "Before running your own script please check the\n",
    "[steinbock documentation](https://bodenmillergroup.github.io/steinbock)."
   ]
  },
  {
   "cell_type": "markdown",
   "id": "7275e96a",
   "metadata": {},
   "source": [
    "## Installation\n",
    "\n",
    "**Note:** Installation is currently only supported on `ubuntu`.  \n",
    "\n",
    "To run the current pipeline, a conda environment can be installed as follows:\n",
    "```\n",
    "conda create -n steinbock python=3.8\n",
    "conda activate steinbock\n",
    "pip install --upgrade -r requirements_deepcell.txt\n",
    "pip install --no-deps deepcell==0.12.3\n",
    "pip install --upgrade -r requirements.txt\n",
    "pip install --no-deps \"steinbock[all]\"\n",
    "conda install -c conda-forge jupyter jupyterlab\n",
    "```\n",
    "The\n",
    "[requirements.txt](https://github.com/BodenmillerGroup/steinbock/blob/main/requirements.txt)\n",
    "and\n",
    "[requirements_deepcell.txt](https://github.com/BodenmillerGroup/steinbock/blob/main/requirements_deepcell.txt)\n",
    "files are located in the root folder of the `steinbock` repository.  \n",
    "Up-to-date compatible package versions can be found here (\"Package version conflicts\"):\n",
    "https://bodenmillergroup.github.io/steinbock/latest/install-python/."
   ]
  },
  {
   "cell_type": "markdown",
   "id": "be63f387",
   "metadata": {},
   "source": [
    "## Settings\n",
    "\n",
    "### Input and output directories\n",
    "Edit the working directory if needed (by default, the `examples` folder).\n",
    "\n",
    "Folder structure:"
   ]
  },
  {
   "cell_type": "raw",
   "id": "85fc9957",
   "metadata": {},
   "source": [
    "steinbock data/working directory\n",
    "├── raw\n",
    "|    └── *.zip (raw data)\n",
    "├── panel.csv (user-provided, when starting from raw data)\n",
    "├── img (created by this script)\n",
    "├── segstacks (created by this script)\n",
    "├── masks (created by this script)\n",
    "├── intensities (created by this script)\n",
    "├── regionprops (created by this script)\n",
    "└── neighbors (created by this script)"
   ]
  },
  {
   "cell_type": "code",
   "execution_count": null,
   "id": "37c181d4",
   "metadata": {},
   "outputs": [],
   "source": [
    "working_dir = Path(\".\")\n",
    "\n",
    "# Paths to zipped acquisition files\n",
    "raw_dir = working_dir / \"raw\"\n",
    "\n",
    "# Output directories\n",
    "img_dir = working_dir / \"img\"\n",
    "\n",
    "# Create directories (if they do not already exist)\n",
    "raw_dir.mkdir(exist_ok=True)\n",
    "img_dir.mkdir(exist_ok=True)"
   ]
  },
  {
   "cell_type": "markdown",
   "id": "8754739f",
   "metadata": {},
   "source": [
    "## Download IMC example data\n",
    "This section downloads IMC example raw data and the associated antibody panel file\n",
    "used for the experiment. The IMC raw data will be stored in the `raw` folder and the\n",
    "panel will be stored in the working directory. You can skip the following cell if you\n",
    "are processing your own data."
   ]
  },
  {
   "cell_type": "code",
   "execution_count": null,
   "id": "068e2099",
   "metadata": {
    "lines_to_next_cell": 2
   },
   "outputs": [],
   "source": [
    "for example_file_name, example_file_url in [\n",
    "    (\"Patient1.zip\", \"https://zenodo.org/record/5949116/files/Patient1.zip\"),\n",
    "    (\"Patient2.zip\", \"https://zenodo.org/record/5949116/files/Patient2.zip\"),\n",
    "    (\"Patient3.zip\", \"https://zenodo.org/record/5949116/files/Patient3.zip\"),\n",
    "    (\"Patient4.zip\", \"https://zenodo.org/record/5949116/files/Patient4.zip\"),\n",
    "]:\n",
    "    example_file = raw_dir / example_file_name\n",
    "    if not example_file.exists():\n",
    "        request.urlretrieve(example_file_url, example_file)\n",
    "\n",
    "panel_file = working_dir / \"panel.csv\"\n",
    "if not panel_file.exists():\n",
    "    request.urlretrieve(\"https://zenodo.org/record/6642699/files/panel.csv\", panel_file)"
   ]
  },
  {
   "cell_type": "markdown",
   "id": "52b40e15",
   "metadata": {},
   "source": [
    "## Antibody panel\n",
    "\n",
    "### Import the panel\n",
    "The antibody panel file should be placed in the working directory\n",
    "(`examples` folder by default) and meet the steinbock format:\n",
    "https://bodenmillergroup.github.io/steinbock/latest/file-types/#panel\n",
    "\n",
    "Customized panels should contain the following columns:\n",
    "+ `channel`: unique channel id, typically metal and isotope mass (e.g. `Ir191`)\n",
    "+ `name`: unique channel name\n",
    "+ `deepcell`: channels to use for segmentation (1=nuclear, 2=membrane, empty=ignored)\n",
    "+ `keep`: *(optional)* 1 for channels to preprocess, 0 for channels to ignore"
   ]
  },
  {
   "cell_type": "code",
   "execution_count": null,
   "id": "404e5012",
   "metadata": {},
   "outputs": [],
   "source": [
    "panel_file = working_dir / \"panel.csv\""
   ]
  },
  {
   "cell_type": "code",
   "execution_count": null,
   "id": "a84b73a0",
   "metadata": {},
   "outputs": [],
   "source": [
    "panel = io.read_panel(panel_file)\n",
    "panel.head()"
   ]
  },
  {
   "cell_type": "markdown",
   "id": "dfa4dfc7",
   "metadata": {},
   "source": [
    "### Create panel from mcd files\n",
    "Alternatively, the panel can directly be created from `.mcd` files.\n",
    "\n",
    "In this case, the panel should be modified as following:\n",
    "- Define which channels to retain for downstream processing (modify the `keep` column)\n",
    "- Define channels to use for deep cell segmentation (see below)\n",
    "- Additional modifications (e.g., renaming channels) can be made if needed"
   ]
  },
  {
   "cell_type": "code",
   "execution_count": null,
   "id": "c9620492",
   "metadata": {},
   "outputs": [],
   "source": [
    "create_panel_from_mcd = False"
   ]
  },
  {
   "cell_type": "code",
   "execution_count": null,
   "id": "e464a52a",
   "metadata": {},
   "outputs": [],
   "source": [
    "if create_panel_from_mcd:\n",
    "    # Create the panel\n",
    "    mcd_files = imc.list_mcd_files(raw_dir, unzip=True)\n",
    "    panel = imc.create_panel_from_mcd_files(mcd_files, unzip=True)\n",
    "\n",
    "    # Channels that will not be kept\n",
    "    channels_to_discard = [\n",
    "        \"ArAr80\", \"Xe131\", \"Xe134\", \"Ba136\", \"La138\", \"Pt196\", \"Pb206\"\n",
    "    ]\n",
    "    panel.loc[panel[\"channel\"].isin(channels_to_discard), \"keep\"] = False\n",
    "\n",
    "    # Channels for cell segmentation\n",
    "    nuclear_channels = [\"In113\", \"Ir191\", \"Ir193\"]\n",
    "    membrane_channels = [\"Sm147\", \"Sm149\", \"Sm152\", \"Ho165\", \"Yb173\"]\n",
    "    panel.loc[panel[\"channel\"].isin(nuclear_channels), \"deepcell\"] = 1\n",
    "    panel.loc[panel[\"channel\"].isin(membrane_channels), \"deepcell\"] = 2\n",
    "\n",
    "    # Subset channels\n",
    "    panel = panel[panel[\"keep\"] == 1]\n",
    "    print(panel.head())"
   ]
  },
  {
   "cell_type": "markdown",
   "id": "e7f45ca4",
   "metadata": {},
   "source": [
    "### Write out the panel"
   ]
  },
  {
   "cell_type": "code",
   "execution_count": null,
   "id": "b7971858",
   "metadata": {},
   "outputs": [],
   "source": [
    "io.write_panel(panel, panel_file)"
   ]
  },
  {
   "cell_type": "markdown",
   "id": "2af080e0",
   "metadata": {},
   "source": [
    "## Convert to images to tiff\n",
    "\n",
    "Documentation:\n",
    "https://bodenmillergroup.github.io/steinbock/latest/cli/preprocessing/#image-conversion\n",
    "\n",
    "### Settings\n",
    "Image stacks are extracted from the acquisitions in `.tiff` format."
   ]
  },
  {
   "cell_type": "code",
   "execution_count": null,
   "id": "15fd5b5c",
   "metadata": {},
   "outputs": [],
   "source": [
    "extract_metadata = True\n",
    "\n",
    "# Value for hot pixel filtering (see the documentation)\n",
    "hpf = 50"
   ]
  },
  {
   "cell_type": "markdown",
   "id": "5fb6d40e",
   "metadata": {},
   "source": [
    "### Image conversion\n",
    "Extract image stacks from IMC acquisitions (stored in the `img` subfolder) and export\n",
    "metadata as `images.csv`."
   ]
  },
  {
   "cell_type": "code",
   "execution_count": null,
   "id": "504fbe27",
   "metadata": {},
   "outputs": [],
   "source": [
    "image_info = []\n",
    "\n",
    "mcd_files = imc.list_mcd_files(raw_dir, unzip=True)\n",
    "txt_files = imc.list_txt_files(raw_dir, unzip=True)\n",
    "for (\n",
    "    mcd_file, acquisition, img, matched_txt, recovered\n",
    ") in imc.try_preprocess_images_from_disk(\n",
    "    mcd_files, txt_files, hpf=hpf, channel_names=panel[\"channel\"], unzip=True\n",
    "):\n",
    "    img_file = Path(img_dir) / f\"{mcd_file.stem}_{acquisition.description}.tiff\"\n",
    "    io.write_image(img, img_file)\n",
    "\n",
    "    if extract_metadata :\n",
    "        image_info_row = imc.create_image_info(\n",
    "            mcd_file, acquisition, img, matched_txt, recovered, img_file\n",
    "        )\n",
    "        image_info.append(image_info_row)\n",
    "\n",
    "image_info = pd.DataFrame(data=image_info)\n",
    "\n",
    "if extract_metadata:\n",
    "    image_info.to_csv(working_dir / \"images.csv\", index=False)"
   ]
  },
  {
   "cell_type": "code",
   "execution_count": null,
   "id": "edf18366",
   "metadata": {},
   "outputs": [],
   "source": [
    "!conda list"
   ]
  }
 ],
 "metadata": {
  "jupytext": {
   "formats": "ipynb,py:percent"
  },
  "kernelspec": {
   "display_name": "Python 3 (ipykernel)",
   "language": "python",
   "name": "python3"
  },
  "language_info": {
   "codemirror_mode": {
    "name": "ipython",
    "version": 3
   },
   "file_extension": ".py",
   "mimetype": "text/x-python",
   "name": "python",
   "nbconvert_exporter": "python",
   "pygments_lexer": "ipython3",
   "version": "3.8.15"
  }
 },
 "nbformat": 4,
 "nbformat_minor": 5
}
