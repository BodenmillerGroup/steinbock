{
 "cells": [
  {
   "cell_type": "code",
   "execution_count": null,
   "id": "3766909e",
   "metadata": {},
   "outputs": [],
   "source": [
    "import numpy as np\n",
    "import pandas as pd\n",
    "\n",
    "from pathlib import Path\n",
    "from urllib import request\n",
    "\n",
    "from steinbock import io\n",
    "from steinbock.preprocessing import imc\n",
    "\n",
    "import helpers"
   ]
  },
  {
   "cell_type": "markdown",
   "id": "8b158df2",
   "metadata": {},
   "source": [
    "# IMC preprocessing pipeline\n",
    "\n",
    "The full pipeline consists of three separate notebooks that have to be run successively: `preprocessing` (current notebook), `segmentation`, and `measurement`.\n",
    "\n",
    "Here, we will extract image data from IMC aquisitions located in the `raw` folder and generate `.tiff` image stacks.\n",
    "\n",
    "Before running your own script please check the [steinbock documentation](https://bodenmillergroup.github.io/steinbock).\n",
    "\n",
    "*Installation*  \n",
    "To install the required python environment, follow the instructions here: https://bodenmillergroup.github.io/steinbock/latest/install-python/"
   ]
  },
  {
   "cell_type": "markdown",
   "id": "f3e8715e",
   "metadata": {},
   "source": [
    "## Settings\n",
    "\n",
    "### Input and output directories\n",
    "Edit the working directory if needed (by default, the `examples` folder).\n",
    "\n",
    "Folder structure:"
   ]
  },
  {
   "cell_type": "raw",
   "id": "4ccb4484",
   "metadata": {},
   "source": [
    "steinbock data/working directory  \n",
    "├── raw   \n",
    "|    └──── *.zip (raw data)\n",
    "├── panel.csv (user-provided, when starting from raw data) \n",
    "├── img (created by this script)  \n",
    "├── segstacks (created by this script)  \n",
    "├── masks (created by this script)  \n",
    "├── intensities (created by this script)  \n",
    "├── regionprops (created by this script)  \n",
    "└── neighbors (created by this script)  "
   ]
  },
  {
   "cell_type": "code",
   "execution_count": null,
   "id": "6186db02",
   "metadata": {},
   "outputs": [],
   "source": [
    "working_dir = Path(\".\")\n",
    "\n",
    "# Paths to zipped acquisition files\n",
    "raw_dir = working_dir / \"raw\"\n",
    "\n",
    "# Output directories\n",
    "img_dir = working_dir / \"img\"\n",
    "\n",
    "# Create directories (if they do not already exist)\n",
    "raw_dir.mkdir(exist_ok=True)\n",
    "img_dir.mkdir(exist_ok=True)"
   ]
  },
  {
   "cell_type": "markdown",
   "id": "a13d45b7",
   "metadata": {},
   "source": [
    "## Download IMC example data\n",
    "This section downloads IMC example raw data and the associated antibody panel file used for the experiment. The IMC raw data will be stored in the `raw` folder and the panel will be stored in the working directory.  \n",
    "You can skip the following cell if you are processing your own data."
   ]
  },
  {
   "cell_type": "code",
   "execution_count": null,
   "id": "0b8d953e",
   "metadata": {},
   "outputs": [],
   "source": [
    "for example_file_name, example_file_url in [\n",
    "    (\"Patient1.zip\", \"https://zenodo.org/record/5949116/files/Patient1.zip\", ),\n",
    "    (\"Patient2.zip\", \"https://zenodo.org/record/5949116/files/Patient2.zip\", ),\n",
    "    (\"Patient3.zip\", \"https://zenodo.org/record/5949116/files/Patient3.zip\", ),\n",
    "    (\"Patient4.zip\", \"https://zenodo.org/record/5949116/files/Patient4.zip\", ),\n",
    "]:\n",
    "    example_file = raw_dir / example_file_name\n",
    "    if not example_file.exists():\n",
    "        request.urlretrieve(example_file_url, example_file)\n",
    "        \n",
    "panel_file = working_dir / \"panel.csv\"\n",
    "if not panel_file.exists():\n",
    "    request.urlretrieve(\"https://zenodo.org/record/6642699/files/panel.csv\",\n",
    "                        panel_file)"
   ]
  },
  {
   "cell_type": "markdown",
   "id": "612efa2e",
   "metadata": {},
   "source": [
    "## Unzip raw data files\n",
    "\n",
    "Documentation: https://bodenmillergroup.github.io/steinbock/latest/cli/preprocessing/#external-images\n",
    "\n",
    "zip folders should contain one `.mcd` file and all the associated `.txt` files."
   ]
  },
  {
   "cell_type": "code",
   "execution_count": null,
   "id": "10fe3be7",
   "metadata": {},
   "outputs": [],
   "source": [
    "# Extract .mcd files\n",
    "helpers.extract_zips(path=raw_dir, suffix=\".mcd\", dest=raw_dir)"
   ]
  },
  {
   "cell_type": "code",
   "execution_count": null,
   "id": "b1a1888b",
   "metadata": {},
   "outputs": [],
   "source": [
    "# Extract .txt files\n",
    "helpers.extract_zips(path=raw_dir, suffix=\".txt\", dest=raw_dir)"
   ]
  },
  {
   "cell_type": "markdown",
   "id": "c36a481c",
   "metadata": {},
   "source": [
    "## Antibody panel\n",
    "\n",
    "### Import the panel\n",
    "The antibody panel file should be placed in the working directory (`examples` folder by default) and meet the steinbock format: https://bodenmillergroup.github.io/steinbock/latest/file-types/#panel.  \n",
    "\n",
    "Customized panels should contain the following columns:\n",
    "+ `channel`: unique channel id, typically metal and isotope mass (e.g. `Ir191`)\n",
    "+ `name`: unique channel name.\n",
    "+ `deepcell`: channels to use for segmentation (1=nuclear, 2=membrane, empty/NaN=ignored).\n",
    "+ `keep`: *(optional)* 1 for channels to preprocess, 0 for channels to ignore"
   ]
  },
  {
   "cell_type": "code",
   "execution_count": null,
   "id": "b6ec9ff0",
   "metadata": {},
   "outputs": [],
   "source": [
    "panel_file = working_dir / \"panel.csv\""
   ]
  },
  {
   "cell_type": "code",
   "execution_count": null,
   "id": "133a8ea2",
   "metadata": {},
   "outputs": [],
   "source": [
    "panel = io.read_panel(panel_file)\n",
    "panel.head()"
   ]
  },
  {
   "cell_type": "markdown",
   "id": "a4aae0a1",
   "metadata": {},
   "source": [
    "### Create panel from mcd files\n",
    "Alternatively, the panel can directly be created from `.mcd` files.\n",
    "\n",
    "In this case, the panel should be modified as following:\n",
    "- Define which channels to retain for downstream processing (modify the `keep` column).\n",
    "- Define channels to use for deep cell segmentation (see below).\n",
    "- Additional modifications can be made (e.g., rename channel names) if needed."
   ]
  },
  {
   "cell_type": "code",
   "execution_count": null,
   "id": "4d4bd2bd",
   "metadata": {},
   "outputs": [],
   "source": [
    "create_panel_from_mcd = False"
   ]
  },
  {
   "cell_type": "code",
   "execution_count": null,
   "id": "7083d77e",
   "metadata": {},
   "outputs": [],
   "source": [
    "if create_panel_from_mcd:\n",
    "    # Create the panel\n",
    "    panel = imc.create_panel_from_mcd_files(imc.list_mcd_files(raw_dir))\n",
    "\n",
    "    # Channels that will not be keeped\n",
    "    channels_to_discard = [\"ArAr80\", \"Xe131\", \"Xe134\", \"Ba136\", \"La138\", \"Pt196\", \"Pb206\"]\n",
    "    panel.loc[panel[\"channel\"].isin(channels_to_discard), \"keep\"] = False\n",
    "\n",
    "    # Channels for cell segmentation\n",
    "    nuclear_channels = [\"In113\", \"Ir191\", \"Ir193\"]\n",
    "    membrane_channels = [\"Sm147\", \"Sm149\", \"Sm152\", \"Ho165\", \"Yb173\"]\n",
    "    panel.loc[panel[\"channel\"].isin(nuclear_channels), \"deepcell\"] = 1\n",
    "    panel.loc[panel[\"channel\"].isin(membrane_channels), \"deepcell\"] = 2\n",
    "    \n",
    "    # Subset channels\n",
    "    panel = panel[panel[\"keep\"] == 1]\n",
    "    print(panel.head())"
   ]
  },
  {
   "cell_type": "markdown",
   "id": "8c854f90",
   "metadata": {},
   "source": [
    "### Write out the panel"
   ]
  },
  {
   "cell_type": "code",
   "execution_count": null,
   "id": "75a2bec8",
   "metadata": {},
   "outputs": [],
   "source": [
    "io.write_panel(panel, panel_file)"
   ]
  },
  {
   "cell_type": "markdown",
   "id": "da89e100",
   "metadata": {},
   "source": [
    "## Convert to images to tiff\n",
    "\n",
    "Documentation: https://bodenmillergroup.github.io/steinbock/latest/cli/preprocessing/#image-conversion\n",
    "\n",
    "### Settings\n",
    "Image stacks are extracted from the acquisitions in `.tiff` format."
   ]
  },
  {
   "cell_type": "code",
   "execution_count": null,
   "id": "32f6e582",
   "metadata": {},
   "outputs": [],
   "source": [
    "extract_metadata = True\n",
    "\n",
    "# Value for hot pixel filtering (see the documentation)\n",
    "hpf = 50"
   ]
  },
  {
   "cell_type": "markdown",
   "id": "3546b10b",
   "metadata": {},
   "source": [
    "### Image conversion\n",
    "Extract image stacks from IMC acquisitions (stored in the `img` subfolder) and export metadata as `images.csv`."
   ]
  },
  {
   "cell_type": "code",
   "execution_count": null,
   "id": "6910158a",
   "metadata": {},
   "outputs": [],
   "source": [
    "image_info_data = pd.DataFrame()\n",
    "\n",
    "for mcd_file, acquisition, img, matched_txt, recovered in imc.try_preprocess_images_from_disk(\n",
    "    mcd_files = imc.list_mcd_files(raw_dir),\n",
    "    txt_files = imc.list_txt_files(raw_dir),\n",
    "    hpf = hpf,\n",
    "    channel_names = panel[\"channel\"]\n",
    "):\n",
    "    img_file = Path(img_dir) / f\"{mcd_file.stem}_{acquisition.description}.tiff\"\n",
    "    io.write_image(img, img_file)\n",
    "\n",
    "    if extract_metadata :\n",
    "        image_info = helpers.extract_metadata(img_file, mcd_file, img, acquisition, matched_txt, recovered)\n",
    "        image_info_data = pd.concat([image_info_data, image_info])\n",
    "        \n",
    "if extract_metadata:\n",
    "    image_info_data.to_csv(working_dir / \"images.csv\", index=False)"
   ]
  },
  {
   "cell_type": "code",
   "execution_count": null,
   "id": "84f2cf3f",
   "metadata": {},
   "outputs": [],
   "source": [
    "!conda list"
   ]
  }
 ],
 "metadata": {
  "jupytext": {
   "formats": "ipynb,py:percent"
  },
  "kernelspec": {
   "display_name": "Python 3 (ipykernel)",
   "language": "python",
   "name": "python3"
  },
  "language_info": {
   "codemirror_mode": {
    "name": "ipython",
    "version": 3
   },
   "file_extension": ".py",
   "mimetype": "text/x-python",
   "name": "python",
   "nbconvert_exporter": "python",
   "pygments_lexer": "ipython3",
   "version": "3.8.13"
  }
 },
 "nbformat": 4,
 "nbformat_minor": 5
}
