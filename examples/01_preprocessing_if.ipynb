{
 "cells": [
  {
   "cell_type": "code",
   "execution_count": null,
   "id": "4544b34e",
   "metadata": {},
   "outputs": [],
   "source": [
    "import numpy as np\n",
    "import pandas as pd\n",
    "import tifffile\n",
    "import xtiff\n",
    "\n",
    "from pathlib import Path\n",
    "\n",
    "from steinbock import io\n",
    "from steinbock.preprocessing import external\n",
    "\n",
    "import helpers"
   ]
  },
  {
   "cell_type": "markdown",
   "id": "7b752cfb",
   "metadata": {},
   "source": [
    "# Multiplex images preprocessing pipeline\n",
    "\n",
    "This pipeline will run image segmentation within the steinbock workframe. It can be applied to any multiplex image stacks. The full pipeline consists of three separate notebooks that have to be run successively: `preprocessing` (current notebook), `segmentation`, and `measurement`.\n",
    "\n",
    "Before running your own script please check the [steinbock documentation](https://bodenmillergroup.github.io/steinbock).\n",
    "\n",
    "*Installation*  \n",
    "To install the required python environment, follow the instructions here: https://bodenmillergroup.github.io/steinbock/latest/install-python/"
   ]
  },
  {
   "cell_type": "markdown",
   "id": "83d9d1e0",
   "metadata": {},
   "source": [
    "## Settings\n",
    "\n",
    "Example data can be downloaded using the `download_examples.ipynb` script.\n",
    "\n",
    "### Input and output directories\n",
    "Edit the working directory if needed (by default, the `examples` folder).\n",
    "\n",
    "Folder structure:"
   ]
  },
  {
   "cell_type": "raw",
   "id": "4e2d0ccd",
   "metadata": {},
   "source": [
    "steinbock data/working directory  \n",
    "├── panel.csv (user-provided)  \n",
    "├── raw (*.tiff stacks, user-provided)\n",
    "├── img (*.tiff image stacks, user-provided or generated from stacks in \"raw\")\n",
    "├── masks (created by this script)  \n",
    "├── intensities (created by this script)  \n",
    "├── regionprops (created by this script)  \n",
    "└── neighbors (created by this script)  "
   ]
  },
  {
   "cell_type": "code",
   "execution_count": null,
   "id": "09658e6a",
   "metadata": {},
   "outputs": [],
   "source": [
    "working_dir = Path(\".\")\n",
    "\n",
    "# Paths to zipped acquisition files\n",
    "raw_dir = working_dir / \"raw\"\n",
    "\n",
    "# Output directories\n",
    "img_dir = working_dir / \"img\"\n",
    "\n",
    "# Create directories (if they do not already exist)\n",
    "raw_dir.mkdir(exist_ok=True)\n",
    "img_dir.mkdir(exist_ok=True)"
   ]
  },
  {
   "cell_type": "markdown",
   "id": "8e98844b",
   "metadata": {},
   "source": [
    "## Antibody panel\n",
    "\n",
    "### Import the panel\n",
    "The antibody panel should meet the steinbock format: https://bodenmillergroup.github.io/steinbock/latest/file-types/#panel  \n",
    "\n",
    "Customized panels should contain the following columns:\n",
    "+ `channel`: unique channel id, typically metal and isotope mass (e.g. `Ir191`) or fluorophore.\n",
    "+ `name`: unique channel name.\n",
    "+ `deepcell`: channels to use for segmentation (1=nuclear, 2=membrane, empty/NaN=ignored).\n",
    "+ `keep`: *(optional)* 1 for channels to preprocess, 0 for channels to ignore"
   ]
  },
  {
   "cell_type": "code",
   "execution_count": null,
   "id": "964e4be4",
   "metadata": {},
   "outputs": [],
   "source": [
    "panel_file = working_dir / \"panel.csv\""
   ]
  },
  {
   "cell_type": "code",
   "execution_count": null,
   "id": "f7fe4ff7",
   "metadata": {},
   "outputs": [],
   "source": [
    "panel = io.read_panel(panel_file)\n",
    "nb_of_channels = len(panel)\n",
    "panel.head()"
   ]
  },
  {
   "cell_type": "markdown",
   "id": "1f625996",
   "metadata": {},
   "source": [
    "## Re-shape `.tiff` stacks\n",
    "\n",
    "The multichannel image stacks provided by the user in the `raw` folder is reshaped as \"CYX\" (channel, height, width). Other dimensions are ignored: for a time series for instance, please provide one stack per time point.\n",
    "\n",
    "Alternately, the user can provide single-channel `tiff` files that will be converted to multichannel stacks. For this, the `generate_from_single_tiffs` variable has to be set to `True` and all images belonging to the same stack should start with the same prefix.\n",
    "\n",
    "If the `raw` folder is empty, it is assumed that  properly shaped stacks are directly provided by the user in the `img` folder."
   ]
  },
  {
   "cell_type": "code",
   "execution_count": null,
   "id": "127cabad",
   "metadata": {},
   "outputs": [],
   "source": [
    "generate_from_single_tiffs = True\n",
    "\n",
    "raw_tiffs = sorted(Path(raw_dir).glob(\"*.tiff\"))"
   ]
  },
  {
   "cell_type": "code",
   "execution_count": null,
   "id": "d0b7852e",
   "metadata": {},
   "outputs": [],
   "source": [
    "if raw_tiffs and generate_from_single_tiffs:\n",
    "    from itertools import cycle\n",
    "    from os.path import commonprefix\n",
    "    \n",
    "    for i, j in zip(range(len(raw_tiffs)),\n",
    "                    cycle(range(nb_of_channels))):\n",
    "        cur_img = tifffile.imread(raw_tiffs[i])\n",
    "        cur_img = np.expand_dims(cur_img, axis=0)\n",
    "        \n",
    "        if (j == 0):\n",
    "            img = cur_img\n",
    "            img_names = []\n",
    "        else:\n",
    "            img = np.concatenate((img, cur_img), axis = 0)\n",
    "            \n",
    "        img_names.append(raw_tiffs[i].name)\n",
    "        \n",
    "        if (j == (nb_of_channels-1)):\n",
    "            img_file = img_dir / (commonprefix(img_names) + \".tiff\")\n",
    "            tifffile.imwrite(img_file, img,\n",
    "                             photometric='minisblack',\n",
    "                             metadata={'axes': 'CYX'}) "
   ]
  },
  {
   "cell_type": "code",
   "execution_count": null,
   "id": "1ebc673c",
   "metadata": {},
   "outputs": [],
   "source": [
    "if raw_tiffs and not generate_from_single_tiffs:\n",
    "    for raw_tiff in raw_tiffs:\n",
    "        with tifffile.TiffFile(raw_tiff) as tif:\n",
    "            volume = tif.asarray()\n",
    "            axes = tif.series[0].axes\n",
    "            imagej_metadata = tif.imagej_metadata\n",
    "            \n",
    "            img_file = img_dir / raw_tiff.name\n",
    "            tifffile.imwrite(img_file, volume,\n",
    "                             photometric='minisblack',\n",
    "                             metadata={'axes': 'CYX'}) "
   ]
  },
  {
   "cell_type": "code",
   "execution_count": null,
   "id": "7788a1af",
   "metadata": {},
   "outputs": [],
   "source": [
    "!conda list"
   ]
  }
 ],
 "metadata": {
  "jupytext": {
   "formats": "ipynb,py:percent"
  },
  "kernelspec": {
   "display_name": "Python 3 (ipykernel)",
   "language": "python",
   "name": "python3"
  },
  "language_info": {
   "codemirror_mode": {
    "name": "ipython",
    "version": 3
   },
   "file_extension": ".py",
   "mimetype": "text/x-python",
   "name": "python",
   "nbconvert_exporter": "python",
   "pygments_lexer": "ipython3",
   "version": "3.8.15"
  }
 },
 "nbformat": 4,
 "nbformat_minor": 5
}
