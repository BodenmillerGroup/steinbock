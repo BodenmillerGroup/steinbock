{
 "cells": [
  {
   "cell_type": "code",
   "execution_count": null,
   "id": "9677beba",
   "metadata": {},
   "outputs": [],
   "source": [
    "import matplotlib.pyplot as plt\n",
    "import numpy as np\n",
    "import pandas as pd\n",
    "import tifffile\n",
    "import xtiff\n",
    "\n",
    "from deepcell.applications import Mesmer\n",
    "from matplotlib.colors import ListedColormap\n",
    "from pathlib import Path\n",
    "from skimage import exposure\n",
    "from skimage.segmentation import expand_labels\n",
    "import sklearn\n",
    "\n",
    "from steinbock import io\n",
    "from steinbock.preprocessing import imc\n",
    "from steinbock.segmentation import deepcell\n",
    "from steinbock.measurement import intensities, regionprops, neighbors\n",
    "\n",
    "import helpers"
   ]
  },
  {
   "cell_type": "markdown",
   "id": "eb9e2d1f",
   "metadata": {},
   "source": [
    "# Multiplex images preprocessing pipeline\n",
    "\n",
    "This pipeline will run image segmentation within the steinbock workframe. It can be applied to any multiplex image stacks. \n",
    "\n",
    "Before running your own script please check the [steinbock documentation](https://bodenmillergroup.github.io/steinbock).\n",
    "\n",
    "*Installation*  \n",
    "To install the required python environment, follow the instructions here: https://bodenmillergroup.github.io/steinbock/latest/install-python/"
   ]
  },
  {
   "cell_type": "markdown",
   "id": "064c477a",
   "metadata": {},
   "source": [
    "## Settings\n",
    "\n",
    "Example data can be downloaded using the `download_examples.ipynb` script.\n",
    "\n",
    "### Input and output directories\n",
    "\n",
    "Folder structure:"
   ]
  },
  {
   "cell_type": "raw",
   "id": "9ce52bed",
   "metadata": {},
   "source": [
    "steinbock data/working directory  \n",
    "├── panel.csv (user-provided)  \n",
    "├── raw (*.tiff stacks, user-provided)\n",
    "├── img (*.tiff image stacks, user-provided or generated from stacks in \"raw\")\n",
    "├── masks (created by this script)  \n",
    "├── intensities (created by this script)  \n",
    "├── regionprops (created by this script)  \n",
    "└── neighbors (created by this script)  "
   ]
  },
  {
   "cell_type": "code",
   "execution_count": null,
   "id": "d16670ef",
   "metadata": {},
   "outputs": [],
   "source": [
    "base_dir = Path(\".\")\n",
    "\n",
    "# Path to single tiff images\n",
    "raw_dir = base_dir / \"raw\"\n",
    "\n",
    "# Paths to tiff stacks\n",
    "img_dir = base_dir / \"img\"\n",
    "\n",
    "# Output directories\n",
    "masks_dir = base_dir / \"masks\"\n",
    "segstack_dir = base_dir / \"segstacks\"\n",
    "intensities_dir = base_dir / \"intensities\"\n",
    "regionprops_dir = base_dir / \"regionprops\"\n",
    "neighbors_dir = base_dir / \"neighbors\"\n",
    "\n",
    "# Create directories (if they do not already exist)\n",
    "raw_dir.mkdir(exist_ok=True)\n",
    "img_dir.mkdir(exist_ok=True)\n",
    "masks_dir.mkdir(exist_ok=True)\n",
    "segstack_dir.mkdir(exist_ok=True)\n",
    "intensities_dir.mkdir(exist_ok=True)\n",
    "regionprops_dir.mkdir(exist_ok=True)\n",
    "neighbors_dir.mkdir(exist_ok=True)"
   ]
  },
  {
   "cell_type": "markdown",
   "id": "43eb8b33",
   "metadata": {},
   "source": [
    "### Antibody panel\n",
    "The antibody panel should meet the steinbock format: https://bodenmillergroup.github.io/steinbock/latest/file-types/#panel  \n",
    "\n",
    "Customized panels should contain the following columns:\n",
    "+ `channel`: unique channel id, typically metal and isotope mass (e.g. `Ir191`) or fluorophore.\n",
    "+ `name`: unique channel name.\n",
    "+ `deepcell`: channels to use for segmentation (1=nuclear, 2=membrane, empty/NaN=ignored).\n",
    "+ `keep`: *(optional)* 1 for channels to preprocess, 0 for channels to ignore"
   ]
  },
  {
   "cell_type": "code",
   "execution_count": null,
   "id": "2109465f",
   "metadata": {},
   "outputs": [],
   "source": [
    "panel = pd.read_csv(base_dir / \"panel.csv\")\n",
    "\n",
    "if \"keep\" in panel.columns:\n",
    "    panel = panel[panel[\"keep\"]==1]\n",
    "\n",
    "nb_of_channels = len(panel)\n",
    "panel.head()"
   ]
  },
  {
   "cell_type": "markdown",
   "id": "88d7541c",
   "metadata": {},
   "source": [
    "### Re-shape `.tiff` stacks\n",
    "\n",
    "The multichannel image stacks provided by the user in the `raw` folder is reshaped as \"CYX\" (channel, height, width). Other dimensions are ignored: for a time series for instance, please provide one stack per time point.\n",
    "\n",
    "Alternately, the user can provide single-channel `tiff` files that will be converted to multichannel stacks. For this, the `generate_from_single_tiffs` variable has to be set to `True` and all images belonging to the same stack should start with the same prefix.\n",
    "\n",
    "If the `raw` folder is empty, it is assumed that  properly shaped stacks are directly provided by the user in the `img` folder."
   ]
  },
  {
   "cell_type": "code",
   "execution_count": null,
   "id": "62731919",
   "metadata": {},
   "outputs": [],
   "source": [
    "generate_from_single_tiffs = True\n",
    "\n",
    "raw_tiffs = sorted(Path(raw_dir).glob(\"*.tiff\"))"
   ]
  },
  {
   "cell_type": "code",
   "execution_count": null,
   "id": "81e9f347",
   "metadata": {},
   "outputs": [],
   "source": [
    "if raw_tiffs and generate_from_single_tiffs:\n",
    "    from itertools import cycle\n",
    "    from os.path import commonprefix\n",
    "    \n",
    "    for i, j in zip(range(len(raw_tiffs)),\n",
    "                    cycle(range(nb_of_channels))):\n",
    "        cur_img = tifffile.imread(raw_tiffs[i])\n",
    "        cur_img = np.expand_dims(cur_img, axis=0)\n",
    "        \n",
    "        if (j == 0):\n",
    "            img = cur_img\n",
    "            img_names = []\n",
    "        else:\n",
    "            img = np.concatenate((img, cur_img), axis = 0)\n",
    "            \n",
    "        img_names.append(raw_tiffs[i].name)\n",
    "        \n",
    "        if (j == (nb_of_channels-1)):\n",
    "            img_file = img_dir / (commonprefix(img_names) + \".tiff\")\n",
    "            tifffile.imwrite(img_file, img,\n",
    "                             photometric='minisblack',\n",
    "                             metadata={'axes': 'CYX'}) "
   ]
  },
  {
   "cell_type": "code",
   "execution_count": null,
   "id": "3b4786be",
   "metadata": {},
   "outputs": [],
   "source": [
    "if raw_tiffs and not generate_from_single_tiffs:\n",
    "    for raw_tiff in raw_tiffs:\n",
    "        with tifffile.TiffFile(raw_tiff) as tif:\n",
    "            volume = tif.asarray()\n",
    "            axes = tif.series[0].axes\n",
    "            imagej_metadata = tif.imagej_metadata\n",
    "            \n",
    "            img_file = img_dir / raw_tiff.name\n",
    "            tifffile.imwrite(img_file, volume,\n",
    "                             photometric='minisblack',\n",
    "                             metadata={'axes': 'CYX'}) "
   ]
  },
  {
   "cell_type": "markdown",
   "id": "5290f817",
   "metadata": {},
   "source": [
    "## Cell segmentation\n",
    "\n",
    "Documentation: https://bodenmillergroup.github.io/steinbock/latest/cli/segmentation/#deepcell  "
   ]
  },
  {
   "cell_type": "markdown",
   "id": "f154a61b",
   "metadata": {},
   "source": [
    "### Prepare segmentation stacks\n",
    "\n",
    "Segmentation stacks are generated by aggregating the channels selcted in `panel.csv` in the column `deepcell`. \n",
    "Cell segmentation requires to construct as 2-channel images with the following structure:\n",
    "+ Channel 1 = nuclear channels\n",
    "+ Channel 2 = cytoplasmic/membranous channels.\n",
    "\n",
    "For channel-wise normalization, zscore and min-max methods are available.  \n",
    "In addition, different functions can be used to aggregate channels. Default: `np.mean`, for other options, see https://numpy.org/doc/stable/reference/routines.statistics.html#averages-and-variances."
   ]
  },
  {
   "cell_type": "code",
   "execution_count": null,
   "id": "05ff0c6e",
   "metadata": {},
   "outputs": [],
   "source": [
    "# Define image preprocessing options\n",
    "aggr_func = np.sum\n",
    "\n",
    "# Define channels to use for segmentation (from the panel file)\n",
    "channel_groups = panel[\"deepcell\"].values\n",
    "channel_groups = np.where(channel_groups == 0, np.nan, channel_groups) # make sure unselected chanels are set to \"nan\""
   ]
  },
  {
   "cell_type": "markdown",
   "id": "92d94cd7",
   "metadata": {},
   "source": [
    "#### Generate segmentation stacks"
   ]
  },
  {
   "cell_type": "code",
   "execution_count": null,
   "id": "af721fd1",
   "metadata": {},
   "outputs": [],
   "source": [
    "for img_path in sorted(Path(img_dir).glob(\"*.tiff\")):\n",
    "    img = tifffile.imread(img_path).astype(\"uint8\")\n",
    "    \n",
    "    img = np.moveaxis(img, -1, 0)\n",
    "    img = exposure.equalize_adapthist(img, clip_limit=0.03)\n",
    "    img = np.moveaxis(img, 0, -1)\n",
    "    \n",
    "    if channel_groups is not None:\n",
    "        img = helpers.segstack_channels(img, channel_groups, aggr_func)\n",
    "    \n",
    "    img_file = Path(segstack_dir) / img_path.name\n",
    "    tifffile.imwrite(img_file, (img*255).astype(\"uint8\"))"
   ]
  },
  {
   "cell_type": "markdown",
   "id": "d27dc267",
   "metadata": {},
   "source": [
    "#### Check segmentation stacks"
   ]
  },
  {
   "cell_type": "code",
   "execution_count": null,
   "id": "0f4ca851",
   "metadata": {},
   "outputs": [],
   "source": [
    "segstacks = sorted(Path(segstack_dir).glob(\"*.tiff\"))\n",
    "rng = np.random.default_rng()\n",
    "ix = rng.choice(len(segstacks))\n",
    "\n",
    "fig, ax = plt.subplots(1, 2, figsize=(30, 30))\n",
    "\n",
    "im = io.read_image(segstacks[ix])\n",
    "ax[0].imshow(im[0,:,:], vmin=0, vmax=250) # adjust vmax if needed (lower value = higher intensity)\n",
    "ax[0].set_title(segstacks[ix].stem + \": nuclei\")\n",
    "\n",
    "im = io.read_image(segstacks[ix])\n",
    "ax[1].imshow(im[1,:,:], vmin=0, vmax=200) # adjust vmax if needed (lower value = higher intensity)\n",
    "ax[1].set_title(segstacks[ix].stem + \": membrane\")"
   ]
  },
  {
   "cell_type": "markdown",
   "id": "12d55728",
   "metadata": {},
   "source": [
    "### Segment cells\n",
    "\n",
    "`segmentation_type` should be `whole-cell` or `nuclear`.\n",
    "\n",
    "Several post-processing arguments can be passed to the deepcell application, the defaults are selected below. Cell labels can also be expanded by defining an `expansion_distance` (mostly useful for nuclear segmentation).\n",
    "\n",
    "- `maxima_threshold`: set lower if cells are missing (default=0.6).\n",
    "- `maxima_smooth`: (default=0).\n",
    "- `interior_threshold`: set higher if you your nuclei are too large (default=0.6).\n",
    "- `interior_smooth`: larger values give rounder cells (default=2).\n",
    "- `small_objects_threshold`: depends on the image resolution (default=50).\n",
    "- `fill_holes_threshold`: (default=10).  \n",
    "- `radius`: (default=2)."
   ]
  },
  {
   "cell_type": "code",
   "execution_count": null,
   "id": "09908460",
   "metadata": {},
   "outputs": [],
   "source": [
    "# Segmentation type\n",
    "segmentation_type = \"nuclear\"\n",
    "\n",
    "# Label expansion (in pixels, 0 = no expansion)\n",
    "expansion_distance = 1\n",
    "\n",
    "# Resolution (microns per pixel)\n",
    "mpp_resolution = 1.3"
   ]
  },
  {
   "cell_type": "code",
   "execution_count": null,
   "id": "64f97404",
   "metadata": {},
   "outputs": [],
   "source": [
    "# Post-processing arguments for nuclear segmentation\n",
    "kwargs_nuclear =  {\n",
    "    'maxima_threshold': 0.1,\n",
    "    'maxima_smooth': 0,\n",
    "    'interior_threshold': 0.2,\n",
    "    'interior_smooth': 2,\n",
    "    'small_objects_threshold': 15,\n",
    "    'fill_holes_threshold': 15,\n",
    "    'radius': 2\n",
    "}"
   ]
  },
  {
   "cell_type": "code",
   "execution_count": null,
   "id": "fbb7e54f",
   "metadata": {},
   "outputs": [],
   "source": [
    "# Post-processing arguments for whole-cell segmentation\n",
    "kwargs_whole_cell =  { #these are valid if you select segmentation type = \"whole-cell\", I don't recommend\n",
    "    'maxima_threshold': 0.075,\n",
    "    'maxima_smooth': 0,\n",
    "    'interior_threshold': 0.2,\n",
    "    'interior_smooth': 2,\n",
    "    'small_objects_threshold': 15,\n",
    "    'fill_holes_threshold': 15,\n",
    "    'radius': 2\n",
    "}"
   ]
  },
  {
   "cell_type": "code",
   "execution_count": null,
   "id": "bebfe443",
   "metadata": {},
   "outputs": [],
   "source": [
    "app = Mesmer()\n",
    "\n",
    "for stack in segstacks:\n",
    "    img = io.read_image(stack)\n",
    "    img = np.moveaxis(img, 0, 2)\n",
    "    img = np.expand_dims(img.data, 0)\n",
    "    \n",
    "    mask = app.predict(\n",
    "        img, image_mpp=mpp_resolution,\n",
    "        compartment=segmentation_type,\n",
    "        postprocess_kwargs_whole_cell=kwargs_whole_cell,\n",
    "        postprocess_kwargs_nuclear=kwargs_nuclear\n",
    "    )\n",
    "    \n",
    "    helpers.save_masks(\n",
    "        mask, masks_dir, stack.name,\n",
    "        segmentation_type, expansion_distance\n",
    "    )"
   ]
  },
  {
   "cell_type": "markdown",
   "id": "7fdd902b",
   "metadata": {},
   "source": [
    "#### Check segmentation\n",
    "\n",
    "Adjust the image intensity by modifiying the `max_intensity` variable.  \n",
    "For higher magnification images, adjust the coordinates and dimension if needed."
   ]
  },
  {
   "cell_type": "code",
   "execution_count": null,
   "id": "c05c871e",
   "metadata": {},
   "outputs": [],
   "source": [
    "# List masks\n",
    "masks_subdir = masks_dir / segmentation_type\n",
    "masks = sorted(Path(masks_subdir).glob(\"*.tiff\"))\n",
    "\n",
    "# Define instensity value for images\n",
    "max_intensity = 250 # vmax: lower values = higher intensity\n",
    "\n",
    "# Select a random image\n",
    "ix = rng.choice(len(masks))\n",
    "#ix = 1\n",
    "fig, ax = plt.subplots(2, 2, figsize=(30, 30))\n",
    "\n",
    "# Display image and mask\n",
    "img = io.read_image(segstacks[ix])\n",
    "ax[0,0].imshow(img[0,:,:], vmax=max_intensity)\n",
    "ax[0,0].set_title(segstacks[ix].stem + \": nuclei\")\n",
    "\n",
    "mask = io.read_image(masks[ix])\n",
    "cmap = ListedColormap(np.random.rand(10**6,3))\n",
    "cmap.colors[0]=[1,1,1]\n",
    "ax[0,1].imshow(mask[0,:,:], cmap=cmap)\n",
    "ax[0,1].set_title(masks[ix].stem +\": mask\")\n",
    "\n",
    "## Higher magnification (change coordinates and dimensions if needed)\n",
    "xstart = 100\n",
    "ystart = 100\n",
    "dim = 200\n",
    "\n",
    "ax[1,0].imshow(img[0,:,:], vmin=0, vmax=max_intensity) \n",
    "ax[1,0].set_title(segstacks[ix].stem + \": nuclei\")\n",
    "ax[1,0].set_xlim([xstart, xstart+dim])\n",
    "ax[1,0].set_ylim([ystart, ystart+dim])\n",
    "\n",
    "ax[1,1].imshow(mask[0,:,:], cmap=cmap)\n",
    "ax[1,1].set_title(masks[ix].stem +\": mask\")\n",
    "ax[1,1].set_xlim([xstart, xstart+dim])\n",
    "ax[1,1].set_ylim([ystart, ystart+dim])"
   ]
  },
  {
   "cell_type": "markdown",
   "id": "d73890b0",
   "metadata": {},
   "source": [
    "## Measure cells\n",
    "\n",
    "### Measure cell intensities per channel\n",
    "\n",
    "Documentation: https://bodenmillergroup.github.io/steinbock/latest/cli/measurement/#object-intensities"
   ]
  },
  {
   "cell_type": "code",
   "execution_count": null,
   "id": "f191c52f",
   "metadata": {},
   "outputs": [],
   "source": [
    "channel_names = panel[\"name\"]\n",
    "intensity_aggregation = intensities.IntensityAggregation.MEAN\n",
    "    \n",
    "for img_path in io.list_image_files(img_dir):\n",
    "    img = tifffile.imread(img_path).astype(\"uint8\")\n",
    "    mask = tifffile.imread(masks_subdir / img_path.name, squeeze=True)\n",
    "    \n",
    "    intens = intensities.measure_intensites(img, mask, channel_names, intensity_aggregation)\n",
    "    \n",
    "    intensities_file = Path(intensities_dir) / f\"{mask_path.name.replace('.tiff', '.csv')}\"\n",
    "    pd.DataFrame.to_csv(intens, intensities_file)"
   ]
  },
  {
   "cell_type": "markdown",
   "id": "51caee06",
   "metadata": {},
   "source": [
    "### Measure cell spatial properties\n",
    "\n",
    "Documentation: https://bodenmillergroup.github.io/steinbock/latest/cli/measurement/#region-properties\n",
    "\n",
    "#### List properties to measure\n",
    "\n",
    "For a full list of measurable properties, refer to https://scikit-image.org/docs/dev/api/skimage.measure.html#skimage.measure.regionprops"
   ]
  },
  {
   "cell_type": "code",
   "execution_count": null,
   "id": "57198a99",
   "metadata": {},
   "outputs": [],
   "source": [
    "skimage_regionprops = [\n",
    "        \"area\",\n",
    "        \"centroid\",\n",
    "        #\"major_axis_length\",\n",
    "        #\"minor_axis_length\",\n",
    "        #\"eccentricity\",\n",
    "    ]"
   ]
  },
  {
   "cell_type": "markdown",
   "id": "8ad6bf38",
   "metadata": {},
   "source": [
    "#### Measure region props"
   ]
  },
  {
   "cell_type": "code",
   "execution_count": null,
   "id": "6a2f5c04",
   "metadata": {},
   "outputs": [],
   "source": [
    "for img_path in io.list_image_files(img_dir):\n",
    "    img = tifffile.imread(img_path).astype(\"uint8\")\n",
    "    mask_path = masks_subdir / img_path.name\n",
    "    mask = tifffile.imread(mask_path, squeeze=True)\n",
    "    channel_names = panel[\"name\"]\n",
    "    intensity_aggregation = intensities.IntensityAggregation.MEAN\n",
    "    \n",
    "    intens = intensities.measure_intensites(img, mask, channel_names, intensity_aggregation)\n",
    "    \n",
    "    intensities_file = Path(intensities_dir) / f\"{mask_path.name.replace('.tiff', '.csv')}\"\n",
    "    pd.DataFrame.to_csv(intens, intensities_file)"
   ]
  },
  {
   "cell_type": "markdown",
   "id": "f7ae4f89",
   "metadata": {},
   "source": [
    "### Measure cell neighbors\n",
    "\n",
    "Documentation: https://bodenmillergroup.github.io/steinbock/latest/cli/measurement/#object-neighbors\n",
    "\n",
    "#### Settings\n",
    "\n",
    "*Neighborhood types:*\n",
    "+ `NeighborhoodType.CENTROID_DISTANCE`\n",
    "+ `NeighborhoodType.EUCLIDEAN_BORDER_DISTANCE`\n",
    "+ `NeighborhoodType.EUCLIDEAN_PIXEL_EXPANSION`\n",
    "\n",
    "*Thresholding:*\n",
    "+ `dmax` (max distance between centroids)\n",
    "+ `kmax` (k-nearest neighbors)"
   ]
  },
  {
   "cell_type": "code",
   "execution_count": null,
   "id": "76dd97bb",
   "metadata": {},
   "outputs": [],
   "source": [
    "neighborhood_type = neighbors.NeighborhoodType.CENTROID_DISTANCE\n",
    "dmax = 20\n",
    "kmax = 50"
   ]
  },
  {
   "cell_type": "markdown",
   "id": "98a85bf4",
   "metadata": {},
   "source": [
    "#### Measure cell neighbors\n",
    "\n",
    "Warning: time-consuming step for large images."
   ]
  },
  {
   "cell_type": "code",
   "execution_count": null,
   "id": "c97121bc",
   "metadata": {},
   "outputs": [],
   "source": [
    "for img_path in io.list_image_files(img_dir):\n",
    "    mask = tifffile.imread(masks_subdir / img_path.name, squeeze=True)\n",
    "    \n",
    "    neighb = neighbors.measure_neighbors(\n",
    "        mask,\n",
    "        neighborhood_type = neighborhood_type,\n",
    "        metric = \"euclidean\",\n",
    "        dmax = dmax,\n",
    "        kmax = kmax\n",
    "    )\n",
    "    \n",
    "    neighb_file = Path(neighbors_dir) / f\"{mask_path.name.replace('.tiff', '.csv')}\"\n",
    "    pd.DataFrame.to_csv(neighb, neighb_file, index=False)"
   ]
  },
  {
   "cell_type": "code",
   "execution_count": null,
   "id": "8c7a6350",
   "metadata": {},
   "outputs": [],
   "source": [
    "!conda list"
   ]
  }
 ],
 "metadata": {
  "jupytext": {
   "formats": "ipynb,py:percent"
  },
  "kernelspec": {
   "display_name": "Python 3 (ipykernel)",
   "language": "python",
   "name": "python3"
  },
  "language_info": {
   "codemirror_mode": {
    "name": "ipython",
    "version": 3
   },
   "file_extension": ".py",
   "mimetype": "text/x-python",
   "name": "python",
   "nbconvert_exporter": "python",
   "pygments_lexer": "ipython3",
   "version": "3.8.13"
  }
 },
 "nbformat": 4,
 "nbformat_minor": 5
}
